{
 "cells": [
  {
   "cell_type": "markdown",
   "id": "0dd14798",
   "metadata": {},
   "source": [
    "## BANK MARKETING: Predicting Whether The Customer Will Subscribe To Term Deposit (FIXED DEPOSIT) or not"
   ]
  },
  {
   "cell_type": "code",
   "execution_count": 1,
   "id": "36bcd77f",
   "metadata": {},
   "outputs": [],
   "source": [
    "#importing libraries\n",
    "import pandas as pd\n",
    "import numpy as np\n",
    "import seaborn as sns\n",
    "import matplotlib.pyplot as plt\n",
    "\n",
    "\n",
    "from sklearn.preprocessing import StandardScaler\n",
    "from sklearn.model_selection import train_test_split\n",
    "\n",
    "from sklearn.metrics import classification_report,accuracy_score,confusion_matrix\n",
    "\n",
    "from sklearn.model_selection import cross_val_score,GridSearchCV \n",
    "\n",
    "\n",
    "import warnings\n",
    "warnings.filterwarnings('ignore')"
   ]
  },
  {
   "cell_type": "code",
   "execution_count": 2,
   "id": "ec6ada40",
   "metadata": {},
   "outputs": [
    {
     "data": {
      "text/html": [
       "<div>\n",
       "<style scoped>\n",
       "    .dataframe tbody tr th:only-of-type {\n",
       "        vertical-align: middle;\n",
       "    }\n",
       "\n",
       "    .dataframe tbody tr th {\n",
       "        vertical-align: top;\n",
       "    }\n",
       "\n",
       "    .dataframe thead th {\n",
       "        text-align: right;\n",
       "    }\n",
       "</style>\n",
       "<table border=\"1\" class=\"dataframe\">\n",
       "  <thead>\n",
       "    <tr style=\"text-align: right;\">\n",
       "      <th></th>\n",
       "      <th>ID</th>\n",
       "      <th>age</th>\n",
       "      <th>job</th>\n",
       "      <th>marital</th>\n",
       "      <th>education</th>\n",
       "      <th>default</th>\n",
       "      <th>balance</th>\n",
       "      <th>housing</th>\n",
       "      <th>loan</th>\n",
       "      <th>contact</th>\n",
       "      <th>day</th>\n",
       "      <th>month</th>\n",
       "      <th>duration</th>\n",
       "      <th>campaign</th>\n",
       "      <th>pdays</th>\n",
       "      <th>previous</th>\n",
       "      <th>poutcome</th>\n",
       "      <th>subscribed</th>\n",
       "    </tr>\n",
       "  </thead>\n",
       "  <tbody>\n",
       "    <tr>\n",
       "      <th>0</th>\n",
       "      <td>26110</td>\n",
       "      <td>56</td>\n",
       "      <td>admin.</td>\n",
       "      <td>married</td>\n",
       "      <td>unknown</td>\n",
       "      <td>no</td>\n",
       "      <td>1933</td>\n",
       "      <td>no</td>\n",
       "      <td>no</td>\n",
       "      <td>telephone</td>\n",
       "      <td>19</td>\n",
       "      <td>nov</td>\n",
       "      <td>44</td>\n",
       "      <td>2</td>\n",
       "      <td>-1</td>\n",
       "      <td>0</td>\n",
       "      <td>unknown</td>\n",
       "      <td>no</td>\n",
       "    </tr>\n",
       "    <tr>\n",
       "      <th>1</th>\n",
       "      <td>40576</td>\n",
       "      <td>31</td>\n",
       "      <td>unknown</td>\n",
       "      <td>married</td>\n",
       "      <td>secondary</td>\n",
       "      <td>no</td>\n",
       "      <td>3</td>\n",
       "      <td>no</td>\n",
       "      <td>no</td>\n",
       "      <td>cellular</td>\n",
       "      <td>20</td>\n",
       "      <td>jul</td>\n",
       "      <td>91</td>\n",
       "      <td>2</td>\n",
       "      <td>-1</td>\n",
       "      <td>0</td>\n",
       "      <td>unknown</td>\n",
       "      <td>no</td>\n",
       "    </tr>\n",
       "    <tr>\n",
       "      <th>2</th>\n",
       "      <td>15320</td>\n",
       "      <td>27</td>\n",
       "      <td>services</td>\n",
       "      <td>married</td>\n",
       "      <td>secondary</td>\n",
       "      <td>no</td>\n",
       "      <td>891</td>\n",
       "      <td>yes</td>\n",
       "      <td>no</td>\n",
       "      <td>cellular</td>\n",
       "      <td>18</td>\n",
       "      <td>jul</td>\n",
       "      <td>240</td>\n",
       "      <td>1</td>\n",
       "      <td>-1</td>\n",
       "      <td>0</td>\n",
       "      <td>unknown</td>\n",
       "      <td>no</td>\n",
       "    </tr>\n",
       "    <tr>\n",
       "      <th>3</th>\n",
       "      <td>43962</td>\n",
       "      <td>57</td>\n",
       "      <td>management</td>\n",
       "      <td>divorced</td>\n",
       "      <td>tertiary</td>\n",
       "      <td>no</td>\n",
       "      <td>3287</td>\n",
       "      <td>no</td>\n",
       "      <td>no</td>\n",
       "      <td>cellular</td>\n",
       "      <td>22</td>\n",
       "      <td>jun</td>\n",
       "      <td>867</td>\n",
       "      <td>1</td>\n",
       "      <td>84</td>\n",
       "      <td>3</td>\n",
       "      <td>success</td>\n",
       "      <td>yes</td>\n",
       "    </tr>\n",
       "    <tr>\n",
       "      <th>4</th>\n",
       "      <td>29842</td>\n",
       "      <td>31</td>\n",
       "      <td>technician</td>\n",
       "      <td>married</td>\n",
       "      <td>secondary</td>\n",
       "      <td>no</td>\n",
       "      <td>119</td>\n",
       "      <td>yes</td>\n",
       "      <td>no</td>\n",
       "      <td>cellular</td>\n",
       "      <td>4</td>\n",
       "      <td>feb</td>\n",
       "      <td>380</td>\n",
       "      <td>1</td>\n",
       "      <td>-1</td>\n",
       "      <td>0</td>\n",
       "      <td>unknown</td>\n",
       "      <td>no</td>\n",
       "    </tr>\n",
       "  </tbody>\n",
       "</table>\n",
       "</div>"
      ],
      "text/plain": [
       "      ID  age         job   marital  education default  balance housing loan  \\\n",
       "0  26110   56      admin.   married    unknown      no     1933      no   no   \n",
       "1  40576   31     unknown   married  secondary      no        3      no   no   \n",
       "2  15320   27    services   married  secondary      no      891     yes   no   \n",
       "3  43962   57  management  divorced   tertiary      no     3287      no   no   \n",
       "4  29842   31  technician   married  secondary      no      119     yes   no   \n",
       "\n",
       "     contact  day month  duration  campaign  pdays  previous poutcome  \\\n",
       "0  telephone   19   nov        44         2     -1         0  unknown   \n",
       "1   cellular   20   jul        91         2     -1         0  unknown   \n",
       "2   cellular   18   jul       240         1     -1         0  unknown   \n",
       "3   cellular   22   jun       867         1     84         3  success   \n",
       "4   cellular    4   feb       380         1     -1         0  unknown   \n",
       "\n",
       "  subscribed  \n",
       "0         no  \n",
       "1         no  \n",
       "2         no  \n",
       "3        yes  \n",
       "4         no  "
      ]
     },
     "execution_count": 2,
     "metadata": {},
     "output_type": "execute_result"
    }
   ],
   "source": [
    "#loading the data\n",
    "#train data\n",
    "train=pd.read_csv('https://raw.githubusercontent.com/dsrscientist/dataset5/main/termdeposit_train.csv')\n",
    "train.head()"
   ]
  },
  {
   "cell_type": "code",
   "execution_count": 3,
   "id": "31fd76ca",
   "metadata": {},
   "outputs": [
    {
     "data": {
      "text/plain": [
       "Index(['ID', 'age', 'job', 'marital', 'education', 'default', 'balance',\n",
       "       'housing', 'loan', 'contact', 'day', 'month', 'duration', 'campaign',\n",
       "       'pdays', 'previous', 'poutcome', 'subscribed'],\n",
       "      dtype='object')"
      ]
     },
     "execution_count": 3,
     "metadata": {},
     "output_type": "execute_result"
    }
   ],
   "source": [
    "#checking for columns in each data\n",
    "train.columns"
   ]
  },
  {
   "cell_type": "code",
   "execution_count": 4,
   "id": "3df39588",
   "metadata": {},
   "outputs": [
    {
     "name": "stdout",
     "output_type": "stream",
     "text": [
      "Number of rows and columns in Train Data: (31647, 18)\n"
     ]
    }
   ],
   "source": [
    "print(\"Number of rows and columns in Train Data:\",train.shape)"
   ]
  },
  {
   "cell_type": "code",
   "execution_count": 5,
   "id": "82d886cb",
   "metadata": {},
   "outputs": [
    {
     "name": "stdout",
     "output_type": "stream",
     "text": [
      "<class 'pandas.core.frame.DataFrame'>\n",
      "RangeIndex: 31647 entries, 0 to 31646\n",
      "Data columns (total 18 columns):\n",
      " #   Column      Non-Null Count  Dtype \n",
      "---  ------      --------------  ----- \n",
      " 0   ID          31647 non-null  int64 \n",
      " 1   age         31647 non-null  int64 \n",
      " 2   job         31647 non-null  object\n",
      " 3   marital     31647 non-null  object\n",
      " 4   education   31647 non-null  object\n",
      " 5   default     31647 non-null  object\n",
      " 6   balance     31647 non-null  int64 \n",
      " 7   housing     31647 non-null  object\n",
      " 8   loan        31647 non-null  object\n",
      " 9   contact     31647 non-null  object\n",
      " 10  day         31647 non-null  int64 \n",
      " 11  month       31647 non-null  object\n",
      " 12  duration    31647 non-null  int64 \n",
      " 13  campaign    31647 non-null  int64 \n",
      " 14  pdays       31647 non-null  int64 \n",
      " 15  previous    31647 non-null  int64 \n",
      " 16  poutcome    31647 non-null  object\n",
      " 17  subscribed  31647 non-null  object\n",
      "dtypes: int64(8), object(10)\n",
      "memory usage: 4.3+ MB\n"
     ]
    }
   ],
   "source": [
    "#checing datatypes or info of the dataset\n",
    "train.info()"
   ]
  },
  {
   "cell_type": "code",
   "execution_count": 6,
   "id": "36c09850",
   "metadata": {},
   "outputs": [
    {
     "data": {
      "text/plain": [
       "ID            0\n",
       "age           0\n",
       "job           0\n",
       "marital       0\n",
       "education     0\n",
       "default       0\n",
       "balance       0\n",
       "housing       0\n",
       "loan          0\n",
       "contact       0\n",
       "day           0\n",
       "month         0\n",
       "duration      0\n",
       "campaign      0\n",
       "pdays         0\n",
       "previous      0\n",
       "poutcome      0\n",
       "subscribed    0\n",
       "dtype: int64"
      ]
     },
     "execution_count": 6,
     "metadata": {},
     "output_type": "execute_result"
    }
   ],
   "source": [
    "#checking for null values\n",
    "train.isnull().sum()"
   ]
  },
  {
   "cell_type": "markdown",
   "id": "44834262",
   "metadata": {},
   "source": [
    "### No Null values found in train-test dataset so we can go for exploratory data analysis"
   ]
  },
  {
   "cell_type": "code",
   "execution_count": 7,
   "id": "063bf602",
   "metadata": {},
   "outputs": [
    {
     "data": {
      "text/html": [
       "<div>\n",
       "<style scoped>\n",
       "    .dataframe tbody tr th:only-of-type {\n",
       "        vertical-align: middle;\n",
       "    }\n",
       "\n",
       "    .dataframe tbody tr th {\n",
       "        vertical-align: top;\n",
       "    }\n",
       "\n",
       "    .dataframe thead th {\n",
       "        text-align: right;\n",
       "    }\n",
       "</style>\n",
       "<table border=\"1\" class=\"dataframe\">\n",
       "  <thead>\n",
       "    <tr style=\"text-align: right;\">\n",
       "      <th></th>\n",
       "      <th>ID</th>\n",
       "      <th>age</th>\n",
       "      <th>balance</th>\n",
       "      <th>day</th>\n",
       "      <th>duration</th>\n",
       "      <th>campaign</th>\n",
       "      <th>pdays</th>\n",
       "      <th>previous</th>\n",
       "    </tr>\n",
       "  </thead>\n",
       "  <tbody>\n",
       "    <tr>\n",
       "      <th>count</th>\n",
       "      <td>31647.000000</td>\n",
       "      <td>31647.000000</td>\n",
       "      <td>31647.000000</td>\n",
       "      <td>31647.000000</td>\n",
       "      <td>31647.000000</td>\n",
       "      <td>31647.000000</td>\n",
       "      <td>31647.000000</td>\n",
       "      <td>31647.000000</td>\n",
       "    </tr>\n",
       "    <tr>\n",
       "      <th>mean</th>\n",
       "      <td>22563.972162</td>\n",
       "      <td>40.957247</td>\n",
       "      <td>1363.890258</td>\n",
       "      <td>15.835466</td>\n",
       "      <td>258.113534</td>\n",
       "      <td>2.765697</td>\n",
       "      <td>39.576042</td>\n",
       "      <td>0.574272</td>\n",
       "    </tr>\n",
       "    <tr>\n",
       "      <th>std</th>\n",
       "      <td>13075.936990</td>\n",
       "      <td>10.625134</td>\n",
       "      <td>3028.304293</td>\n",
       "      <td>8.337097</td>\n",
       "      <td>257.118973</td>\n",
       "      <td>3.113830</td>\n",
       "      <td>99.317592</td>\n",
       "      <td>2.422529</td>\n",
       "    </tr>\n",
       "    <tr>\n",
       "      <th>min</th>\n",
       "      <td>2.000000</td>\n",
       "      <td>18.000000</td>\n",
       "      <td>-8019.000000</td>\n",
       "      <td>1.000000</td>\n",
       "      <td>0.000000</td>\n",
       "      <td>1.000000</td>\n",
       "      <td>-1.000000</td>\n",
       "      <td>0.000000</td>\n",
       "    </tr>\n",
       "    <tr>\n",
       "      <th>25%</th>\n",
       "      <td>11218.000000</td>\n",
       "      <td>33.000000</td>\n",
       "      <td>73.000000</td>\n",
       "      <td>8.000000</td>\n",
       "      <td>104.000000</td>\n",
       "      <td>1.000000</td>\n",
       "      <td>-1.000000</td>\n",
       "      <td>0.000000</td>\n",
       "    </tr>\n",
       "    <tr>\n",
       "      <th>50%</th>\n",
       "      <td>22519.000000</td>\n",
       "      <td>39.000000</td>\n",
       "      <td>450.000000</td>\n",
       "      <td>16.000000</td>\n",
       "      <td>180.000000</td>\n",
       "      <td>2.000000</td>\n",
       "      <td>-1.000000</td>\n",
       "      <td>0.000000</td>\n",
       "    </tr>\n",
       "    <tr>\n",
       "      <th>75%</th>\n",
       "      <td>33879.500000</td>\n",
       "      <td>48.000000</td>\n",
       "      <td>1431.000000</td>\n",
       "      <td>21.000000</td>\n",
       "      <td>318.500000</td>\n",
       "      <td>3.000000</td>\n",
       "      <td>-1.000000</td>\n",
       "      <td>0.000000</td>\n",
       "    </tr>\n",
       "    <tr>\n",
       "      <th>max</th>\n",
       "      <td>45211.000000</td>\n",
       "      <td>95.000000</td>\n",
       "      <td>102127.000000</td>\n",
       "      <td>31.000000</td>\n",
       "      <td>4918.000000</td>\n",
       "      <td>63.000000</td>\n",
       "      <td>871.000000</td>\n",
       "      <td>275.000000</td>\n",
       "    </tr>\n",
       "  </tbody>\n",
       "</table>\n",
       "</div>"
      ],
      "text/plain": [
       "                 ID           age        balance           day      duration  \\\n",
       "count  31647.000000  31647.000000   31647.000000  31647.000000  31647.000000   \n",
       "mean   22563.972162     40.957247    1363.890258     15.835466    258.113534   \n",
       "std    13075.936990     10.625134    3028.304293      8.337097    257.118973   \n",
       "min        2.000000     18.000000   -8019.000000      1.000000      0.000000   \n",
       "25%    11218.000000     33.000000      73.000000      8.000000    104.000000   \n",
       "50%    22519.000000     39.000000     450.000000     16.000000    180.000000   \n",
       "75%    33879.500000     48.000000    1431.000000     21.000000    318.500000   \n",
       "max    45211.000000     95.000000  102127.000000     31.000000   4918.000000   \n",
       "\n",
       "           campaign         pdays      previous  \n",
       "count  31647.000000  31647.000000  31647.000000  \n",
       "mean       2.765697     39.576042      0.574272  \n",
       "std        3.113830     99.317592      2.422529  \n",
       "min        1.000000     -1.000000      0.000000  \n",
       "25%        1.000000     -1.000000      0.000000  \n",
       "50%        2.000000     -1.000000      0.000000  \n",
       "75%        3.000000     -1.000000      0.000000  \n",
       "max       63.000000    871.000000    275.000000  "
      ]
     },
     "execution_count": 7,
     "metadata": {},
     "output_type": "execute_result"
    }
   ],
   "source": [
    "train.describe()"
   ]
  },
  {
   "cell_type": "markdown",
   "id": "3c1ffbb4",
   "metadata": {},
   "source": [
    "### Plotting graphs to check skewness or outliers in continous variables"
   ]
  },
  {
   "cell_type": "code",
   "execution_count": 8,
   "id": "ade977de",
   "metadata": {},
   "outputs": [
    {
     "data": {
      "text/html": [
       "<div>\n",
       "<style scoped>\n",
       "    .dataframe tbody tr th:only-of-type {\n",
       "        vertical-align: middle;\n",
       "    }\n",
       "\n",
       "    .dataframe tbody tr th {\n",
       "        vertical-align: top;\n",
       "    }\n",
       "\n",
       "    .dataframe thead th {\n",
       "        text-align: right;\n",
       "    }\n",
       "</style>\n",
       "<table border=\"1\" class=\"dataframe\">\n",
       "  <thead>\n",
       "    <tr style=\"text-align: right;\">\n",
       "      <th></th>\n",
       "      <th>age</th>\n",
       "      <th>balance</th>\n",
       "      <th>duration</th>\n",
       "    </tr>\n",
       "  </thead>\n",
       "  <tbody>\n",
       "    <tr>\n",
       "      <th>0</th>\n",
       "      <td>56</td>\n",
       "      <td>1933</td>\n",
       "      <td>44</td>\n",
       "    </tr>\n",
       "    <tr>\n",
       "      <th>1</th>\n",
       "      <td>31</td>\n",
       "      <td>3</td>\n",
       "      <td>91</td>\n",
       "    </tr>\n",
       "    <tr>\n",
       "      <th>2</th>\n",
       "      <td>27</td>\n",
       "      <td>891</td>\n",
       "      <td>240</td>\n",
       "    </tr>\n",
       "    <tr>\n",
       "      <th>3</th>\n",
       "      <td>57</td>\n",
       "      <td>3287</td>\n",
       "      <td>867</td>\n",
       "    </tr>\n",
       "    <tr>\n",
       "      <th>4</th>\n",
       "      <td>31</td>\n",
       "      <td>119</td>\n",
       "      <td>380</td>\n",
       "    </tr>\n",
       "    <tr>\n",
       "      <th>...</th>\n",
       "      <td>...</td>\n",
       "      <td>...</td>\n",
       "      <td>...</td>\n",
       "    </tr>\n",
       "    <tr>\n",
       "      <th>31642</th>\n",
       "      <td>29</td>\n",
       "      <td>0</td>\n",
       "      <td>116</td>\n",
       "    </tr>\n",
       "    <tr>\n",
       "      <th>31643</th>\n",
       "      <td>53</td>\n",
       "      <td>380</td>\n",
       "      <td>438</td>\n",
       "    </tr>\n",
       "    <tr>\n",
       "      <th>31644</th>\n",
       "      <td>32</td>\n",
       "      <td>312</td>\n",
       "      <td>37</td>\n",
       "    </tr>\n",
       "    <tr>\n",
       "      <th>31645</th>\n",
       "      <td>57</td>\n",
       "      <td>225</td>\n",
       "      <td>22</td>\n",
       "    </tr>\n",
       "    <tr>\n",
       "      <th>31646</th>\n",
       "      <td>55</td>\n",
       "      <td>204</td>\n",
       "      <td>1973</td>\n",
       "    </tr>\n",
       "  </tbody>\n",
       "</table>\n",
       "<p>31647 rows × 3 columns</p>\n",
       "</div>"
      ],
      "text/plain": [
       "       age  balance  duration\n",
       "0       56     1933        44\n",
       "1       31        3        91\n",
       "2       27      891       240\n",
       "3       57     3287       867\n",
       "4       31      119       380\n",
       "...    ...      ...       ...\n",
       "31642   29        0       116\n",
       "31643   53      380       438\n",
       "31644   32      312        37\n",
       "31645   57      225        22\n",
       "31646   55      204      1973\n",
       "\n",
       "[31647 rows x 3 columns]"
      ]
     },
     "execution_count": 8,
     "metadata": {},
     "output_type": "execute_result"
    }
   ],
   "source": [
    "continous_variiable=train[['age','balance','duration']]\n",
    "continous_variiable"
   ]
  },
  {
   "cell_type": "code",
   "execution_count": 11,
   "id": "d9ab8be0",
   "metadata": {},
   "outputs": [
    {
     "data": {
      "image/png": "[encoded data removed]",
      "text/plain": [
       "<Figure size 1440x1080 with 3 Axes>"
      ]
     },
     "metadata": {},
     "output_type": "display_data"
    }
   ],
   "source": [
    "plt.figure(figsize=(20,15),facecolor='lightgreen')\n",
    "plot_number=1\n",
    "\n",
    "for column in continous_variiable:\n",
    "    if plot_number<=3: \n",
    "        ax=plt.subplot(3,2,plot_number)\n",
    "        sns.distplot(continous_variiable[column]) \n",
    "        plt.xlabel(column,fontsize=20)\n",
    "     \n",
    "    plot_number +=1\n",
    "    \n",
    "    \n",
    "plt.tight_layout()"
   ]
  },
  {
   "cell_type": "markdown",
   "id": "2a5eac89",
   "metadata": {},
   "source": [
    "Skewness is there in the above columns so first we need to remove of the skewness from these columns"
   ]
  },
  {
   "cell_type": "code",
   "execution_count": 12,
   "id": "52ca041a",
   "metadata": {},
   "outputs": [
    {
     "name": "stdout",
     "output_type": "stream",
     "text": [
      "Before Transformation Skewness:\n",
      " age         0.681607\n",
      "balance     7.995696\n",
      "duration    3.199766\n",
      "dtype: float64\n"
     ]
    }
   ],
   "source": [
    "print(\"Before Transformation Skewness:\\n\",continous_variiable.skew())"
   ]
  },
  {
   "cell_type": "markdown",
   "id": "9710e722",
   "metadata": {},
   "source": [
    "### age , balance and duration are the only columns that are contnous in nature so we will try to remove skewness from them only using np.log method"
   ]
  },
  {
   "cell_type": "code",
   "execution_count": 13,
   "id": "3a1e98f7",
   "metadata": {},
   "outputs": [],
   "source": [
    "continous_variiable['age']=np.log(continous_variiable['age'])\n",
    "continous_variiable['balance']=np.log(continous_variiable['balance'])\n",
    "continous_variiable['duration']=np.log(continous_variiable['duration'])"
   ]
  },
  {
   "cell_type": "code",
   "execution_count": 14,
   "id": "965d970c",
   "metadata": {},
   "outputs": [
    {
     "data": {
      "text/plain": [
       "age         0.100209\n",
       "balance          NaN\n",
       "duration         NaN\n",
       "dtype: float64"
      ]
     },
     "execution_count": 14,
     "metadata": {},
     "output_type": "execute_result"
    }
   ],
   "source": [
    "continous_variiable.skew()"
   ]
  },
  {
   "cell_type": "markdown",
   "id": "bad960a8",
   "metadata": {},
   "source": [
    "#### Skewness got handled now Analysing the variables"
   ]
  },
  {
   "cell_type": "code",
   "execution_count": null,
   "id": "7f44bce2",
   "metadata": {},
   "outputs": [],
   "source": []
  },
  {
   "cell_type": "markdown",
   "id": "43802bda",
   "metadata": {},
   "source": [
    "### Univariate Analysis"
   ]
  },
  {
   "cell_type": "code",
   "execution_count": 15,
   "id": "1c75114e",
   "metadata": {},
   "outputs": [
    {
     "data": {
      "text/plain": [
       "no     27932\n",
       "yes     3715\n",
       "Name: subscribed, dtype: int64"
      ]
     },
     "execution_count": 15,
     "metadata": {},
     "output_type": "execute_result"
    }
   ],
   "source": [
    "#Analysis of 'Subscribed' variable\n",
    "train['subscribed'].value_counts()\n"
   ]
  },
  {
   "cell_type": "code",
   "execution_count": 16,
   "id": "80de4c9e",
   "metadata": {},
   "outputs": [
    {
     "data": {
      "image/png": "[encoded data removed]",
      "text/plain": [
       "<Figure size 432x288 with 1 Axes>"
      ]
     },
     "metadata": {
      "needs_background": "light"
     },
     "output_type": "display_data"
    }
   ],
   "source": [
    "# Plotting the 'subscribed' frequency\n",
    "sns.countplot(data=train, x='subscribed')\n",
    "plt.show()"
   ]
  },
  {
   "cell_type": "code",
   "execution_count": 17,
   "id": "aba1e9f1",
   "metadata": {},
   "outputs": [
    {
     "data": {
      "text/plain": [
       "no     0.882611\n",
       "yes    0.117389\n",
       "Name: subscribed, dtype: float64"
      ]
     },
     "execution_count": 17,
     "metadata": {},
     "output_type": "execute_result"
    }
   ],
   "source": [
    "#Normalizing the frequency table of 'Subscribed' variable\n",
    "train['subscribed'].value_counts(normalize=True)"
   ]
  },
  {
   "cell_type": "markdown",
   "id": "c649d1a4",
   "metadata": {},
   "source": [
    "From the above count we can clearly see that here subscribed is a imbalance data so we will fix this in later in this step so it won't craete any biaseness towards prediction "
   ]
  },
  {
   "cell_type": "markdown",
   "id": "d1b16902",
   "metadata": {},
   "source": [
    "### Analysing th 'Job' variable\n"
   ]
  },
  {
   "cell_type": "code",
   "execution_count": 18,
   "id": "c00a9b5d",
   "metadata": {},
   "outputs": [
    {
     "data": {
      "text/plain": [
       "blue-collar      6842\n",
       "management       6639\n",
       "technician       5307\n",
       "admin.           3631\n",
       "services         2903\n",
       "retired          1574\n",
       "self-employed    1123\n",
       "entrepreneur     1008\n",
       "unemployed        905\n",
       "housemaid         874\n",
       "student           635\n",
       "unknown           206\n",
       "Name: job, dtype: int64"
      ]
     },
     "execution_count": 18,
     "metadata": {},
     "output_type": "execute_result"
    }
   ],
   "source": [
    "train['job'].value_counts()"
   ]
  },
  {
   "cell_type": "code",
   "execution_count": 19,
   "id": "cec5b4ab",
   "metadata": {},
   "outputs": [
    {
     "data": {
      "image/png": "[encoded data removed]",
      "text/plain": [
       "<Figure size 720x432 with 1 Axes>"
      ]
     },
     "metadata": {
      "needs_background": "light"
     },
     "output_type": "display_data"
    }
   ],
   "source": [
    "#visualising the above count plot\n",
    "#sns.set_context('paper')\n",
    "train['job'].value_counts().plot(kind='bar', figsize=(10,6));"
   ]
  },
  {
   "cell_type": "markdown",
   "id": "69256f8e",
   "metadata": {},
   "source": [
    "From the above plot we can clearly see that most of the clients belonged to blue-collar job and students are least in general as they don't make term deposits in general.\n",
    "\n"
   ]
  },
  {
   "cell_type": "code",
   "execution_count": 20,
   "id": "aee1e7b8",
   "metadata": {},
   "outputs": [
    {
     "data": {
      "text/plain": [
       "married     19095\n",
       "single       8922\n",
       "divorced     3630\n",
       "Name: marital, dtype: int64"
      ]
     },
     "execution_count": 20,
     "metadata": {},
     "output_type": "execute_result"
    }
   ],
   "source": [
    "#analysing the 'marital' feature\n",
    "train['marital'].value_counts()"
   ]
  },
  {
   "cell_type": "code",
   "execution_count": 21,
   "id": "e978afee",
   "metadata": {},
   "outputs": [
    {
     "data": {
      "text/plain": [
       "<AxesSubplot:xlabel='marital', ylabel='count'>"
      ]
     },
     "execution_count": 21,
     "metadata": {},
     "output_type": "execute_result"
    },
    {
     "data": {
      "image/png": "[encoded data removed]",
      "text/plain": [
       "<Figure size 432x288 with 1 Axes>"
      ]
     },
     "metadata": {
      "needs_background": "light"
     },
     "output_type": "display_data"
    }
   ],
   "source": [
    "sns.countplot(data=train,x='marital')"
   ]
  },
  {
   "cell_type": "code",
   "execution_count": 22,
   "id": "2bf16446",
   "metadata": {},
   "outputs": [
    {
     "data": {
      "image/png": "[encoded data removed]",
      "text/plain": [
       "<Figure size 432x288 with 1 Axes>"
      ]
     },
     "metadata": {
      "needs_background": "light"
     },
     "output_type": "display_data"
    }
   ],
   "source": [
    "sns.countplot(data=train, x='marital', hue='subscribed');\n"
   ]
  },
  {
   "cell_type": "code",
   "execution_count": 23,
   "id": "1090607b",
   "metadata": {},
   "outputs": [
    {
     "data": {
      "image/png": "[encoded data removed]",
      "text/plain": [
       "<Figure size 432x288 with 1 Axes>"
      ]
     },
     "metadata": {
      "needs_background": "light"
     },
     "output_type": "display_data"
    }
   ],
   "source": [
    "#analysing the 'age ' feature\n",
    "sns.distplot(train['age']);\n"
   ]
  },
  {
   "cell_type": "markdown",
   "id": "6571c1d2",
   "metadata": {},
   "source": [
    "From the abouve distplot we can infer that age range in between 20-60"
   ]
  },
  {
   "cell_type": "markdown",
   "id": "11fc310a",
   "metadata": {},
   "source": [
    "### Bivariate Analysis"
   ]
  },
  {
   "cell_type": "code",
   "execution_count": 24,
   "id": "02588054",
   "metadata": {},
   "outputs": [
    {
     "name": "stdout",
     "output_type": "stream",
     "text": [
      "subscribed       no  yes\n",
      "job                     \n",
      "admin.         3179  452\n",
      "blue-collar    6353  489\n",
      "entrepreneur    923   85\n",
      "housemaid       795   79\n",
      "management     5716  923\n",
      "retired        1212  362\n",
      "self-employed   983  140\n",
      "services       2649  254\n",
      "student         453  182\n",
      "technician     4713  594\n",
      "unemployed      776  129\n",
      "unknown         180   26\n"
     ]
    }
   ],
   "source": [
    "#job vs subscribed\n",
    "print(pd.crosstab(train['job'],train['subscribed']))"
   ]
  },
  {
   "cell_type": "code",
   "execution_count": 25,
   "id": "2eb6c4a9",
   "metadata": {},
   "outputs": [],
   "source": [
    "job = pd.crosstab(train['job'],train['subscribed'])\n",
    "job_norm = job.div(job.sum(1).astype(float), axis=0)"
   ]
  },
  {
   "cell_type": "code",
   "execution_count": 26,
   "id": "dc364604",
   "metadata": {},
   "outputs": [
    {
     "data": {
      "image/png": "[encoded data removed]",
      "text/plain": [
       "<Figure size 576x432 with 1 Axes>"
      ]
     },
     "metadata": {
      "needs_background": "light"
     },
     "output_type": "display_data"
    }
   ],
   "source": [
    "job_norm.plot.bar(figsize=(8,6));"
   ]
  },
  {
   "cell_type": "markdown",
   "id": "f04addfd",
   "metadata": {},
   "source": [
    "From the above graph we can infer that students and retired people have higher chances of subscribing to a term deposit, which is surprising as students generally do not subscribe to a term deposit. The possible reason is that the number of students in the dataset is less and comparatively to other job types, more students have subscribed to a term deposit."
   ]
  },
  {
   "cell_type": "code",
   "execution_count": 27,
   "id": "6304e206",
   "metadata": {},
   "outputs": [
    {
     "data": {
      "text/html": [
       "<div>\n",
       "<style scoped>\n",
       "    .dataframe tbody tr th:only-of-type {\n",
       "        vertical-align: middle;\n",
       "    }\n",
       "\n",
       "    .dataframe tbody tr th {\n",
       "        vertical-align: top;\n",
       "    }\n",
       "\n",
       "    .dataframe thead th {\n",
       "        text-align: right;\n",
       "    }\n",
       "</style>\n",
       "<table border=\"1\" class=\"dataframe\">\n",
       "  <thead>\n",
       "    <tr style=\"text-align: right;\">\n",
       "      <th>subscribed</th>\n",
       "      <th>no</th>\n",
       "      <th>yes</th>\n",
       "    </tr>\n",
       "    <tr>\n",
       "      <th>marital</th>\n",
       "      <th></th>\n",
       "      <th></th>\n",
       "    </tr>\n",
       "  </thead>\n",
       "  <tbody>\n",
       "    <tr>\n",
       "      <th>divorced</th>\n",
       "      <td>3185</td>\n",
       "      <td>445</td>\n",
       "    </tr>\n",
       "    <tr>\n",
       "      <th>married</th>\n",
       "      <td>17176</td>\n",
       "      <td>1919</td>\n",
       "    </tr>\n",
       "    <tr>\n",
       "      <th>single</th>\n",
       "      <td>7571</td>\n",
       "      <td>1351</td>\n",
       "    </tr>\n",
       "  </tbody>\n",
       "</table>\n",
       "</div>"
      ],
      "text/plain": [
       "subscribed     no   yes\n",
       "marital                \n",
       "divorced     3185   445\n",
       "married     17176  1919\n",
       "single       7571  1351"
      ]
     },
     "execution_count": 27,
     "metadata": {},
     "output_type": "execute_result"
    }
   ],
   "source": [
    "#Marital status vs subscribed\n",
    "pd.crosstab(train['marital'], train['subscribed'])"
   ]
  },
  {
   "cell_type": "code",
   "execution_count": 28,
   "id": "dacf0470",
   "metadata": {},
   "outputs": [
    {
     "data": {
      "text/html": [
       "<div>\n",
       "<style scoped>\n",
       "    .dataframe tbody tr th:only-of-type {\n",
       "        vertical-align: middle;\n",
       "    }\n",
       "\n",
       "    .dataframe tbody tr th {\n",
       "        vertical-align: top;\n",
       "    }\n",
       "\n",
       "    .dataframe thead th {\n",
       "        text-align: right;\n",
       "    }\n",
       "</style>\n",
       "<table border=\"1\" class=\"dataframe\">\n",
       "  <thead>\n",
       "    <tr style=\"text-align: right;\">\n",
       "      <th>subscribed</th>\n",
       "      <th>no</th>\n",
       "      <th>yes</th>\n",
       "    </tr>\n",
       "    <tr>\n",
       "      <th>marital</th>\n",
       "      <th></th>\n",
       "      <th></th>\n",
       "    </tr>\n",
       "  </thead>\n",
       "  <tbody>\n",
       "    <tr>\n",
       "      <th>divorced</th>\n",
       "      <td>0.877410</td>\n",
       "      <td>0.122590</td>\n",
       "    </tr>\n",
       "    <tr>\n",
       "      <th>married</th>\n",
       "      <td>0.899502</td>\n",
       "      <td>0.100498</td>\n",
       "    </tr>\n",
       "    <tr>\n",
       "      <th>single</th>\n",
       "      <td>0.848577</td>\n",
       "      <td>0.151423</td>\n",
       "    </tr>\n",
       "  </tbody>\n",
       "</table>\n",
       "</div>"
      ],
      "text/plain": [
       "subscribed        no       yes\n",
       "marital                       \n",
       "divorced    0.877410  0.122590\n",
       "married     0.899502  0.100498\n",
       "single      0.848577  0.151423"
      ]
     },
     "execution_count": 28,
     "metadata": {},
     "output_type": "execute_result"
    }
   ],
   "source": [
    "marital = pd.crosstab(train['marital'], train['subscribed'])\n",
    "marital_norm = marital.div(marital.sum(1).astype(float), axis=0)\n",
    "marital_norm    "
   ]
  },
  {
   "cell_type": "code",
   "execution_count": 29,
   "id": "1edc9306",
   "metadata": {},
   "outputs": [
    {
     "data": {
      "image/png": "[encoded data removed]",
      "text/plain": [
       "<Figure size 576x432 with 1 Axes>"
      ]
     },
     "metadata": {
      "needs_background": "light"
     },
     "output_type": "display_data"
    }
   ],
   "source": [
    "marital_norm.plot.bar(figsize=(8,6));"
   ]
  },
  {
   "cell_type": "markdown",
   "id": "e6bddd9a",
   "metadata": {},
   "source": [
    "From the above analysis we can infer that marital status doesn't have a major impact on the subscription to term deposits.\n",
    "\n"
   ]
  },
  {
   "cell_type": "code",
   "execution_count": 30,
   "id": "b286075a",
   "metadata": {},
   "outputs": [
    {
     "data": {
      "text/html": [
       "<div>\n",
       "<style scoped>\n",
       "    .dataframe tbody tr th:only-of-type {\n",
       "        vertical-align: middle;\n",
       "    }\n",
       "\n",
       "    .dataframe tbody tr th {\n",
       "        vertical-align: top;\n",
       "    }\n",
       "\n",
       "    .dataframe thead th {\n",
       "        text-align: right;\n",
       "    }\n",
       "</style>\n",
       "<table border=\"1\" class=\"dataframe\">\n",
       "  <thead>\n",
       "    <tr style=\"text-align: right;\">\n",
       "      <th>subscribed</th>\n",
       "      <th>no</th>\n",
       "      <th>yes</th>\n",
       "    </tr>\n",
       "    <tr>\n",
       "      <th>default</th>\n",
       "      <th></th>\n",
       "      <th></th>\n",
       "    </tr>\n",
       "  </thead>\n",
       "  <tbody>\n",
       "    <tr>\n",
       "      <th>no</th>\n",
       "      <td>27388</td>\n",
       "      <td>3674</td>\n",
       "    </tr>\n",
       "    <tr>\n",
       "      <th>yes</th>\n",
       "      <td>544</td>\n",
       "      <td>41</td>\n",
       "    </tr>\n",
       "  </tbody>\n",
       "</table>\n",
       "</div>"
      ],
      "text/plain": [
       "subscribed     no   yes\n",
       "default                \n",
       "no          27388  3674\n",
       "yes           544    41"
      ]
     },
     "execution_count": 30,
     "metadata": {},
     "output_type": "execute_result"
    }
   ],
   "source": [
    "#default vs subscription\n",
    "pd.crosstab(train['default'], train['subscribed'])"
   ]
  },
  {
   "cell_type": "code",
   "execution_count": 31,
   "id": "a0a26fe2",
   "metadata": {},
   "outputs": [
    {
     "data": {
      "text/html": [
       "<div>\n",
       "<style scoped>\n",
       "    .dataframe tbody tr th:only-of-type {\n",
       "        vertical-align: middle;\n",
       "    }\n",
       "\n",
       "    .dataframe tbody tr th {\n",
       "        vertical-align: top;\n",
       "    }\n",
       "\n",
       "    .dataframe thead th {\n",
       "        text-align: right;\n",
       "    }\n",
       "</style>\n",
       "<table border=\"1\" class=\"dataframe\">\n",
       "  <thead>\n",
       "    <tr style=\"text-align: right;\">\n",
       "      <th>subscribed</th>\n",
       "      <th>no</th>\n",
       "      <th>yes</th>\n",
       "    </tr>\n",
       "    <tr>\n",
       "      <th>default</th>\n",
       "      <th></th>\n",
       "      <th></th>\n",
       "    </tr>\n",
       "  </thead>\n",
       "  <tbody>\n",
       "    <tr>\n",
       "      <th>no</th>\n",
       "      <td>0.881720</td>\n",
       "      <td>0.118280</td>\n",
       "    </tr>\n",
       "    <tr>\n",
       "      <th>yes</th>\n",
       "      <td>0.929915</td>\n",
       "      <td>0.070085</td>\n",
       "    </tr>\n",
       "  </tbody>\n",
       "</table>\n",
       "</div>"
      ],
      "text/plain": [
       "subscribed        no       yes\n",
       "default                       \n",
       "no          0.881720  0.118280\n",
       "yes         0.929915  0.070085"
      ]
     },
     "execution_count": 31,
     "metadata": {},
     "output_type": "execute_result"
    }
   ],
   "source": [
    "default=pd.crosstab(train['default'], train['subscribed'])\n",
    "default_norm=default.div(default.sum(1).astype(float), axis=0)\n",
    "default_norm    "
   ]
  },
  {
   "cell_type": "code",
   "execution_count": 32,
   "id": "b486556c",
   "metadata": {},
   "outputs": [
    {
     "data": {
      "image/png": "[encoded data removed]",
      "text/plain": [
       "<Figure size 576x432 with 1 Axes>"
      ]
     },
     "metadata": {
      "needs_background": "light"
     },
     "output_type": "display_data"
    }
   ],
   "source": [
    "default_norm.plot.bar(figsize=(8,6));"
   ]
  },
  {
   "cell_type": "markdown",
   "id": "4314d09b",
   "metadata": {},
   "source": [
    "We can infer that clients having no previous default have slightly higher chances of subscribing to a term loan as compared to the clients who have previous default history.\n",
    "\n"
   ]
  },
  {
   "cell_type": "code",
   "execution_count": 33,
   "id": "fc08ed95",
   "metadata": {},
   "outputs": [],
   "source": [
    "# Converting the target variables into 0s and 1s\n",
    "train['subscribed'].replace('no', 0,inplace=True)\n",
    "train['subscribed'].replace('yes', 1,inplace=True)"
   ]
  },
  {
   "cell_type": "code",
   "execution_count": 34,
   "id": "47821a37",
   "metadata": {},
   "outputs": [
    {
     "data": {
      "text/plain": [
       "0    27932\n",
       "1     3715\n",
       "Name: subscribed, dtype: int64"
      ]
     },
     "execution_count": 34,
     "metadata": {},
     "output_type": "execute_result"
    }
   ],
   "source": [
    "train['subscribed'].value_counts()"
   ]
  },
  {
   "cell_type": "markdown",
   "id": "2d0b44e8",
   "metadata": {},
   "source": [
    "Classes are imbalnce ,so we need to takecare of it later in project"
   ]
  },
  {
   "cell_type": "code",
   "execution_count": 35,
   "id": "6911a04a",
   "metadata": {},
   "outputs": [
    {
     "data": {
      "image/png": "[encoded data removed]",
      "text/plain": [
       "<Figure size 1008x720 with 2 Axes>"
      ]
     },
     "metadata": {
      "needs_background": "light"
     },
     "output_type": "display_data"
    }
   ],
   "source": [
    "#plotting heatmap\n",
    "plt.figure(figsize=(14,10))\n",
    "sns.heatmap(train.corr(),annot=True)\n",
    "plt.show()"
   ]
  },
  {
   "cell_type": "code",
   "execution_count": null,
   "id": "61b6cf1b",
   "metadata": {},
   "outputs": [],
   "source": []
  },
  {
   "cell_type": "markdown",
   "id": "1f689715",
   "metadata": {},
   "source": [
    "We can infer that duration of the call is highly correlated with the target variable. As the duration of the call is more, there are higher chances that the client is showing interest in the term deposit and hence there are higher chances that the client will subscribe to term deposit."
   ]
  },
  {
   "cell_type": "markdown",
   "id": "e28a50b0",
   "metadata": {},
   "source": [
    "### Model Building\n"
   ]
  },
  {
   "cell_type": "code",
   "execution_count": 36,
   "id": "72f2019c",
   "metadata": {},
   "outputs": [],
   "source": [
    "#splitting features and label\n",
    "target = train['subscribed']\n",
    "train = train.drop('subscribed', axis=1)"
   ]
  },
  {
   "cell_type": "code",
   "execution_count": 37,
   "id": "67b4f945",
   "metadata": {},
   "outputs": [
    {
     "data": {
      "text/html": [
       "<div>\n",
       "<style scoped>\n",
       "    .dataframe tbody tr th:only-of-type {\n",
       "        vertical-align: middle;\n",
       "    }\n",
       "\n",
       "    .dataframe tbody tr th {\n",
       "        vertical-align: top;\n",
       "    }\n",
       "\n",
       "    .dataframe thead th {\n",
       "        text-align: right;\n",
       "    }\n",
       "</style>\n",
       "<table border=\"1\" class=\"dataframe\">\n",
       "  <thead>\n",
       "    <tr style=\"text-align: right;\">\n",
       "      <th></th>\n",
       "      <th>ID</th>\n",
       "      <th>age</th>\n",
       "      <th>job</th>\n",
       "      <th>marital</th>\n",
       "      <th>education</th>\n",
       "      <th>default</th>\n",
       "      <th>balance</th>\n",
       "      <th>housing</th>\n",
       "      <th>loan</th>\n",
       "      <th>contact</th>\n",
       "      <th>day</th>\n",
       "      <th>month</th>\n",
       "      <th>duration</th>\n",
       "      <th>campaign</th>\n",
       "      <th>pdays</th>\n",
       "      <th>previous</th>\n",
       "      <th>poutcome</th>\n",
       "    </tr>\n",
       "  </thead>\n",
       "  <tbody>\n",
       "    <tr>\n",
       "      <th>0</th>\n",
       "      <td>26110</td>\n",
       "      <td>56</td>\n",
       "      <td>admin.</td>\n",
       "      <td>married</td>\n",
       "      <td>unknown</td>\n",
       "      <td>no</td>\n",
       "      <td>1933</td>\n",
       "      <td>no</td>\n",
       "      <td>no</td>\n",
       "      <td>telephone</td>\n",
       "      <td>19</td>\n",
       "      <td>nov</td>\n",
       "      <td>44</td>\n",
       "      <td>2</td>\n",
       "      <td>-1</td>\n",
       "      <td>0</td>\n",
       "      <td>unknown</td>\n",
       "    </tr>\n",
       "    <tr>\n",
       "      <th>1</th>\n",
       "      <td>40576</td>\n",
       "      <td>31</td>\n",
       "      <td>unknown</td>\n",
       "      <td>married</td>\n",
       "      <td>secondary</td>\n",
       "      <td>no</td>\n",
       "      <td>3</td>\n",
       "      <td>no</td>\n",
       "      <td>no</td>\n",
       "      <td>cellular</td>\n",
       "      <td>20</td>\n",
       "      <td>jul</td>\n",
       "      <td>91</td>\n",
       "      <td>2</td>\n",
       "      <td>-1</td>\n",
       "      <td>0</td>\n",
       "      <td>unknown</td>\n",
       "    </tr>\n",
       "    <tr>\n",
       "      <th>2</th>\n",
       "      <td>15320</td>\n",
       "      <td>27</td>\n",
       "      <td>services</td>\n",
       "      <td>married</td>\n",
       "      <td>secondary</td>\n",
       "      <td>no</td>\n",
       "      <td>891</td>\n",
       "      <td>yes</td>\n",
       "      <td>no</td>\n",
       "      <td>cellular</td>\n",
       "      <td>18</td>\n",
       "      <td>jul</td>\n",
       "      <td>240</td>\n",
       "      <td>1</td>\n",
       "      <td>-1</td>\n",
       "      <td>0</td>\n",
       "      <td>unknown</td>\n",
       "    </tr>\n",
       "    <tr>\n",
       "      <th>3</th>\n",
       "      <td>43962</td>\n",
       "      <td>57</td>\n",
       "      <td>management</td>\n",
       "      <td>divorced</td>\n",
       "      <td>tertiary</td>\n",
       "      <td>no</td>\n",
       "      <td>3287</td>\n",
       "      <td>no</td>\n",
       "      <td>no</td>\n",
       "      <td>cellular</td>\n",
       "      <td>22</td>\n",
       "      <td>jun</td>\n",
       "      <td>867</td>\n",
       "      <td>1</td>\n",
       "      <td>84</td>\n",
       "      <td>3</td>\n",
       "      <td>success</td>\n",
       "    </tr>\n",
       "    <tr>\n",
       "      <th>4</th>\n",
       "      <td>29842</td>\n",
       "      <td>31</td>\n",
       "      <td>technician</td>\n",
       "      <td>married</td>\n",
       "      <td>secondary</td>\n",
       "      <td>no</td>\n",
       "      <td>119</td>\n",
       "      <td>yes</td>\n",
       "      <td>no</td>\n",
       "      <td>cellular</td>\n",
       "      <td>4</td>\n",
       "      <td>feb</td>\n",
       "      <td>380</td>\n",
       "      <td>1</td>\n",
       "      <td>-1</td>\n",
       "      <td>0</td>\n",
       "      <td>unknown</td>\n",
       "    </tr>\n",
       "    <tr>\n",
       "      <th>...</th>\n",
       "      <td>...</td>\n",
       "      <td>...</td>\n",
       "      <td>...</td>\n",
       "      <td>...</td>\n",
       "      <td>...</td>\n",
       "      <td>...</td>\n",
       "      <td>...</td>\n",
       "      <td>...</td>\n",
       "      <td>...</td>\n",
       "      <td>...</td>\n",
       "      <td>...</td>\n",
       "      <td>...</td>\n",
       "      <td>...</td>\n",
       "      <td>...</td>\n",
       "      <td>...</td>\n",
       "      <td>...</td>\n",
       "      <td>...</td>\n",
       "    </tr>\n",
       "    <tr>\n",
       "      <th>31642</th>\n",
       "      <td>36483</td>\n",
       "      <td>29</td>\n",
       "      <td>management</td>\n",
       "      <td>single</td>\n",
       "      <td>tertiary</td>\n",
       "      <td>no</td>\n",
       "      <td>0</td>\n",
       "      <td>yes</td>\n",
       "      <td>no</td>\n",
       "      <td>cellular</td>\n",
       "      <td>12</td>\n",
       "      <td>may</td>\n",
       "      <td>116</td>\n",
       "      <td>2</td>\n",
       "      <td>-1</td>\n",
       "      <td>0</td>\n",
       "      <td>unknown</td>\n",
       "    </tr>\n",
       "    <tr>\n",
       "      <th>31643</th>\n",
       "      <td>40178</td>\n",
       "      <td>53</td>\n",
       "      <td>management</td>\n",
       "      <td>divorced</td>\n",
       "      <td>tertiary</td>\n",
       "      <td>no</td>\n",
       "      <td>380</td>\n",
       "      <td>no</td>\n",
       "      <td>yes</td>\n",
       "      <td>cellular</td>\n",
       "      <td>5</td>\n",
       "      <td>jun</td>\n",
       "      <td>438</td>\n",
       "      <td>2</td>\n",
       "      <td>-1</td>\n",
       "      <td>0</td>\n",
       "      <td>unknown</td>\n",
       "    </tr>\n",
       "    <tr>\n",
       "      <th>31644</th>\n",
       "      <td>19710</td>\n",
       "      <td>32</td>\n",
       "      <td>management</td>\n",
       "      <td>single</td>\n",
       "      <td>tertiary</td>\n",
       "      <td>no</td>\n",
       "      <td>312</td>\n",
       "      <td>no</td>\n",
       "      <td>no</td>\n",
       "      <td>cellular</td>\n",
       "      <td>7</td>\n",
       "      <td>aug</td>\n",
       "      <td>37</td>\n",
       "      <td>3</td>\n",
       "      <td>-1</td>\n",
       "      <td>0</td>\n",
       "      <td>unknown</td>\n",
       "    </tr>\n",
       "    <tr>\n",
       "      <th>31645</th>\n",
       "      <td>38556</td>\n",
       "      <td>57</td>\n",
       "      <td>technician</td>\n",
       "      <td>married</td>\n",
       "      <td>secondary</td>\n",
       "      <td>no</td>\n",
       "      <td>225</td>\n",
       "      <td>yes</td>\n",
       "      <td>no</td>\n",
       "      <td>telephone</td>\n",
       "      <td>15</td>\n",
       "      <td>may</td>\n",
       "      <td>22</td>\n",
       "      <td>7</td>\n",
       "      <td>337</td>\n",
       "      <td>12</td>\n",
       "      <td>failure</td>\n",
       "    </tr>\n",
       "    <tr>\n",
       "      <th>31646</th>\n",
       "      <td>14156</td>\n",
       "      <td>55</td>\n",
       "      <td>management</td>\n",
       "      <td>divorced</td>\n",
       "      <td>secondary</td>\n",
       "      <td>no</td>\n",
       "      <td>204</td>\n",
       "      <td>yes</td>\n",
       "      <td>no</td>\n",
       "      <td>cellular</td>\n",
       "      <td>11</td>\n",
       "      <td>jul</td>\n",
       "      <td>1973</td>\n",
       "      <td>2</td>\n",
       "      <td>-1</td>\n",
       "      <td>0</td>\n",
       "      <td>unknown</td>\n",
       "    </tr>\n",
       "  </tbody>\n",
       "</table>\n",
       "<p>31647 rows × 17 columns</p>\n",
       "</div>"
      ],
      "text/plain": [
       "          ID  age         job   marital  education default  balance housing  \\\n",
       "0      26110   56      admin.   married    unknown      no     1933      no   \n",
       "1      40576   31     unknown   married  secondary      no        3      no   \n",
       "2      15320   27    services   married  secondary      no      891     yes   \n",
       "3      43962   57  management  divorced   tertiary      no     3287      no   \n",
       "4      29842   31  technician   married  secondary      no      119     yes   \n",
       "...      ...  ...         ...       ...        ...     ...      ...     ...   \n",
       "31642  36483   29  management    single   tertiary      no        0     yes   \n",
       "31643  40178   53  management  divorced   tertiary      no      380      no   \n",
       "31644  19710   32  management    single   tertiary      no      312      no   \n",
       "31645  38556   57  technician   married  secondary      no      225     yes   \n",
       "31646  14156   55  management  divorced  secondary      no      204     yes   \n",
       "\n",
       "      loan    contact  day month  duration  campaign  pdays  previous poutcome  \n",
       "0       no  telephone   19   nov        44         2     -1         0  unknown  \n",
       "1       no   cellular   20   jul        91         2     -1         0  unknown  \n",
       "2       no   cellular   18   jul       240         1     -1         0  unknown  \n",
       "3       no   cellular   22   jun       867         1     84         3  success  \n",
       "4       no   cellular    4   feb       380         1     -1         0  unknown  \n",
       "...    ...        ...  ...   ...       ...       ...    ...       ...      ...  \n",
       "31642   no   cellular   12   may       116         2     -1         0  unknown  \n",
       "31643  yes   cellular    5   jun       438         2     -1         0  unknown  \n",
       "31644   no   cellular    7   aug        37         3     -1         0  unknown  \n",
       "31645   no  telephone   15   may        22         7    337        12  failure  \n",
       "31646   no   cellular   11   jul      1973         2     -1         0  unknown  \n",
       "\n",
       "[31647 rows x 17 columns]"
      ]
     },
     "execution_count": 37,
     "metadata": {},
     "output_type": "execute_result"
    }
   ],
   "source": [
    "train"
   ]
  },
  {
   "cell_type": "code",
   "execution_count": 38,
   "id": "d5de36b7",
   "metadata": {},
   "outputs": [
    {
     "data": {
      "text/html": [
       "<div>\n",
       "<style scoped>\n",
       "    .dataframe tbody tr th:only-of-type {\n",
       "        vertical-align: middle;\n",
       "    }\n",
       "\n",
       "    .dataframe tbody tr th {\n",
       "        vertical-align: top;\n",
       "    }\n",
       "\n",
       "    .dataframe thead th {\n",
       "        text-align: right;\n",
       "    }\n",
       "</style>\n",
       "<table border=\"1\" class=\"dataframe\">\n",
       "  <thead>\n",
       "    <tr style=\"text-align: right;\">\n",
       "      <th></th>\n",
       "      <th>ID</th>\n",
       "      <th>age</th>\n",
       "      <th>balance</th>\n",
       "      <th>day</th>\n",
       "      <th>duration</th>\n",
       "      <th>campaign</th>\n",
       "      <th>pdays</th>\n",
       "      <th>previous</th>\n",
       "      <th>job_admin.</th>\n",
       "      <th>job_blue-collar</th>\n",
       "      <th>...</th>\n",
       "      <th>month_jun</th>\n",
       "      <th>month_mar</th>\n",
       "      <th>month_may</th>\n",
       "      <th>month_nov</th>\n",
       "      <th>month_oct</th>\n",
       "      <th>month_sep</th>\n",
       "      <th>poutcome_failure</th>\n",
       "      <th>poutcome_other</th>\n",
       "      <th>poutcome_success</th>\n",
       "      <th>poutcome_unknown</th>\n",
       "    </tr>\n",
       "  </thead>\n",
       "  <tbody>\n",
       "    <tr>\n",
       "      <th>0</th>\n",
       "      <td>26110</td>\n",
       "      <td>56</td>\n",
       "      <td>1933</td>\n",
       "      <td>19</td>\n",
       "      <td>44</td>\n",
       "      <td>2</td>\n",
       "      <td>-1</td>\n",
       "      <td>0</td>\n",
       "      <td>1</td>\n",
       "      <td>0</td>\n",
       "      <td>...</td>\n",
       "      <td>0</td>\n",
       "      <td>0</td>\n",
       "      <td>0</td>\n",
       "      <td>1</td>\n",
       "      <td>0</td>\n",
       "      <td>0</td>\n",
       "      <td>0</td>\n",
       "      <td>0</td>\n",
       "      <td>0</td>\n",
       "      <td>1</td>\n",
       "    </tr>\n",
       "    <tr>\n",
       "      <th>1</th>\n",
       "      <td>40576</td>\n",
       "      <td>31</td>\n",
       "      <td>3</td>\n",
       "      <td>20</td>\n",
       "      <td>91</td>\n",
       "      <td>2</td>\n",
       "      <td>-1</td>\n",
       "      <td>0</td>\n",
       "      <td>0</td>\n",
       "      <td>0</td>\n",
       "      <td>...</td>\n",
       "      <td>0</td>\n",
       "      <td>0</td>\n",
       "      <td>0</td>\n",
       "      <td>0</td>\n",
       "      <td>0</td>\n",
       "      <td>0</td>\n",
       "      <td>0</td>\n",
       "      <td>0</td>\n",
       "      <td>0</td>\n",
       "      <td>1</td>\n",
       "    </tr>\n",
       "    <tr>\n",
       "      <th>2</th>\n",
       "      <td>15320</td>\n",
       "      <td>27</td>\n",
       "      <td>891</td>\n",
       "      <td>18</td>\n",
       "      <td>240</td>\n",
       "      <td>1</td>\n",
       "      <td>-1</td>\n",
       "      <td>0</td>\n",
       "      <td>0</td>\n",
       "      <td>0</td>\n",
       "      <td>...</td>\n",
       "      <td>0</td>\n",
       "      <td>0</td>\n",
       "      <td>0</td>\n",
       "      <td>0</td>\n",
       "      <td>0</td>\n",
       "      <td>0</td>\n",
       "      <td>0</td>\n",
       "      <td>0</td>\n",
       "      <td>0</td>\n",
       "      <td>1</td>\n",
       "    </tr>\n",
       "    <tr>\n",
       "      <th>3</th>\n",
       "      <td>43962</td>\n",
       "      <td>57</td>\n",
       "      <td>3287</td>\n",
       "      <td>22</td>\n",
       "      <td>867</td>\n",
       "      <td>1</td>\n",
       "      <td>84</td>\n",
       "      <td>3</td>\n",
       "      <td>0</td>\n",
       "      <td>0</td>\n",
       "      <td>...</td>\n",
       "      <td>1</td>\n",
       "      <td>0</td>\n",
       "      <td>0</td>\n",
       "      <td>0</td>\n",
       "      <td>0</td>\n",
       "      <td>0</td>\n",
       "      <td>0</td>\n",
       "      <td>0</td>\n",
       "      <td>1</td>\n",
       "      <td>0</td>\n",
       "    </tr>\n",
       "    <tr>\n",
       "      <th>4</th>\n",
       "      <td>29842</td>\n",
       "      <td>31</td>\n",
       "      <td>119</td>\n",
       "      <td>4</td>\n",
       "      <td>380</td>\n",
       "      <td>1</td>\n",
       "      <td>-1</td>\n",
       "      <td>0</td>\n",
       "      <td>0</td>\n",
       "      <td>0</td>\n",
       "      <td>...</td>\n",
       "      <td>0</td>\n",
       "      <td>0</td>\n",
       "      <td>0</td>\n",
       "      <td>0</td>\n",
       "      <td>0</td>\n",
       "      <td>0</td>\n",
       "      <td>0</td>\n",
       "      <td>0</td>\n",
       "      <td>0</td>\n",
       "      <td>1</td>\n",
       "    </tr>\n",
       "  </tbody>\n",
       "</table>\n",
       "<p>5 rows × 52 columns</p>\n",
       "</div>"
      ],
      "text/plain": [
       "      ID  age  balance  day  duration  campaign  pdays  previous  job_admin.  \\\n",
       "0  26110   56     1933   19        44         2     -1         0           1   \n",
       "1  40576   31        3   20        91         2     -1         0           0   \n",
       "2  15320   27      891   18       240         1     -1         0           0   \n",
       "3  43962   57     3287   22       867         1     84         3           0   \n",
       "4  29842   31      119    4       380         1     -1         0           0   \n",
       "\n",
       "   job_blue-collar  ...  month_jun  month_mar  month_may  month_nov  \\\n",
       "0                0  ...          0          0          0          1   \n",
       "1                0  ...          0          0          0          0   \n",
       "2                0  ...          0          0          0          0   \n",
       "3                0  ...          1          0          0          0   \n",
       "4                0  ...          0          0          0          0   \n",
       "\n",
       "   month_oct  month_sep  poutcome_failure  poutcome_other  poutcome_success  \\\n",
       "0          0          0                 0               0                 0   \n",
       "1          0          0                 0               0                 0   \n",
       "2          0          0                 0               0                 0   \n",
       "3          0          0                 0               0                 1   \n",
       "4          0          0                 0               0                 0   \n",
       "\n",
       "   poutcome_unknown  \n",
       "0                 1  \n",
       "1                 1  \n",
       "2                 1  \n",
       "3                 0  \n",
       "4                 1  \n",
       "\n",
       "[5 rows x 52 columns]"
      ]
     },
     "execution_count": 38,
     "metadata": {},
     "output_type": "execute_result"
    }
   ],
   "source": [
    "#generating dummy values on the train dataset\n",
    "train = pd.get_dummies(train)\n",
    "train.head()\n"
   ]
  },
  {
   "cell_type": "code",
   "execution_count": 39,
   "id": "a72ffa56",
   "metadata": {},
   "outputs": [
    {
     "data": {
      "text/plain": [
       "0    27932\n",
       "1     3715\n",
       "Name: subscribed, dtype: int64"
      ]
     },
     "execution_count": 39,
     "metadata": {},
     "output_type": "execute_result"
    }
   ],
   "source": [
    "target.value_counts()"
   ]
  },
  {
   "cell_type": "markdown",
   "id": "6fc4b478",
   "metadata": {},
   "source": [
    "Here we can clearly see that classes are imbalance in target variable so to avoid overfitting we gonna use resampling technique here"
   ]
  },
  {
   "cell_type": "markdown",
   "id": "99c6adee",
   "metadata": {},
   "source": [
    "### Taking care of class imbalance"
   ]
  },
  {
   "cell_type": "code",
   "execution_count": 40,
   "id": "eff12734",
   "metadata": {},
   "outputs": [],
   "source": [
    "from imblearn.under_sampling import NearMiss"
   ]
  },
  {
   "cell_type": "code",
   "execution_count": 41,
   "id": "37bb25e9",
   "metadata": {},
   "outputs": [],
   "source": [
    "ds=NearMiss()"
   ]
  },
  {
   "cell_type": "code",
   "execution_count": 42,
   "id": "0d61f368",
   "metadata": {},
   "outputs": [],
   "source": [
    "train,target=ds.fit_resample(train,target)"
   ]
  },
  {
   "cell_type": "code",
   "execution_count": 43,
   "id": "a1709ac1",
   "metadata": {},
   "outputs": [
    {
     "data": {
      "text/plain": [
       "0    3715\n",
       "1    3715\n",
       "Name: subscribed, dtype: int64"
      ]
     },
     "execution_count": 43,
     "metadata": {},
     "output_type": "execute_result"
    }
   ],
   "source": [
    "target.value_counts()"
   ]
  },
  {
   "cell_type": "code",
   "execution_count": 44,
   "id": "1709f6b3",
   "metadata": {},
   "outputs": [
    {
     "data": {
      "text/plain": [
       "0    0.5\n",
       "1    0.5\n",
       "Name: subscribed, dtype: float64"
      ]
     },
     "execution_count": 44,
     "metadata": {},
     "output_type": "execute_result"
    }
   ],
   "source": [
    "target.value_counts(normalize=True)"
   ]
  },
  {
   "cell_type": "code",
   "execution_count": 45,
   "id": "831c43e9",
   "metadata": {},
   "outputs": [
    {
     "data": {
      "text/plain": [
       "(7430,)"
      ]
     },
     "execution_count": 45,
     "metadata": {},
     "output_type": "execute_result"
    }
   ],
   "source": [
    "target.shape"
   ]
  },
  {
   "cell_type": "code",
   "execution_count": 46,
   "id": "e0427e96",
   "metadata": {},
   "outputs": [],
   "source": [
    "# Splitting the dataset into test and training with 80% for training the model\n",
    "X_train, X_test, y_train, y_test = train_test_split(train, target, test_size=0.2, random_state=12)\n"
   ]
  },
  {
   "cell_type": "code",
   "execution_count": 47,
   "id": "b6a702e3",
   "metadata": {},
   "outputs": [
    {
     "name": "stdout",
     "output_type": "stream",
     "text": [
      "Size of x_train : (5944, 52)\n",
      "Size of x_test : (1486, 52)\n",
      "Size of x_train : (5944,)\n",
      "Size of x_train : (1486,)\n"
     ]
    }
   ],
   "source": [
    "\n",
    "\n",
    "# Check whether the train and test have instances of all the glass types\n",
    "print(\"Size of x_train :\",X_train.shape)\n",
    "print(\"Size of x_test :\",X_test.shape)\n",
    "print(\"Size of x_train :\",y_train.shape)\n",
    "print(\"Size of x_train :\",y_test.shape)\n"
   ]
  },
  {
   "cell_type": "markdown",
   "id": "2a8f1e93",
   "metadata": {},
   "source": [
    "### Writing one function for different models accuracy\n"
   ]
  },
  {
   "cell_type": "code",
   "execution_count": 48,
   "id": "da834761",
   "metadata": {},
   "outputs": [],
   "source": [
    "def metric_score(model, train,target):\n",
    "    \n",
    "    # Training the model\n",
    "    model.fit(X_train, y_train)\n",
    "    \n",
    "    # Predicting for training\n",
    "    pred_train = model.predict(X_train)\n",
    "    \n",
    "    # Predicting Y_test\n",
    "    pred = model.predict(X_test)\n",
    "    \n",
    "     # Accuracy Score for training\n",
    "    acc_score1 = (accuracy_score(y_train, pred_train))*100\n",
    "    print(\"Accuracy Score for training:\", acc_score1)\n",
    "    \n",
    "    # Accuracy Score for testing\n",
    "    acc_score = (accuracy_score(y_test, pred))*100\n",
    "    print(\"Accuracy Score for testing:\", acc_score)\n",
    "    \n",
    "    # Classification Report\n",
    "    class_report = classification_report(y_test, pred)\n",
    "    print(\"\\nClassification Report:\\n\", class_report)\n"
   ]
  },
  {
   "cell_type": "code",
   "execution_count": 49,
   "id": "acf4cec9",
   "metadata": {},
   "outputs": [],
   "source": [
    "from sklearn.linear_model import LogisticRegression\n",
    "from sklearn.svm import SVC\n",
    "from sklearn.tree import DecisionTreeClassifier\n",
    "from sklearn.ensemble import RandomForestClassifier\n",
    "from sklearn.neighbors import KNeighborsClassifier\n"
   ]
  },
  {
   "cell_type": "markdown",
   "id": "63cf405a",
   "metadata": {},
   "source": [
    "### Logistic Regression\n"
   ]
  },
  {
   "cell_type": "code",
   "execution_count": 50,
   "id": "a70b1008",
   "metadata": {},
   "outputs": [
    {
     "name": "stdout",
     "output_type": "stream",
     "text": [
      "Accuracy Score for training: 72.10632570659489\n",
      "Accuracy Score for testing: 70.59219380888291\n",
      "\n",
      "Classification Report:\n",
      "               precision    recall  f1-score   support\n",
      "\n",
      "           0       0.69      0.74      0.72       745\n",
      "           1       0.72      0.67      0.70       741\n",
      "\n",
      "    accuracy                           0.71      1486\n",
      "   macro avg       0.71      0.71      0.71      1486\n",
      "weighted avg       0.71      0.71      0.71      1486\n",
      "\n"
     ]
    }
   ],
   "source": [
    "model=LogisticRegression()\n",
    "metric_score(model, train, target)"
   ]
  },
  {
   "cell_type": "markdown",
   "id": "d5de1029",
   "metadata": {},
   "source": [
    "### DecisionTreeClassifier"
   ]
  },
  {
   "cell_type": "code",
   "execution_count": 51,
   "id": "d5edd305",
   "metadata": {},
   "outputs": [
    {
     "name": "stdout",
     "output_type": "stream",
     "text": [
      "Accuracy Score for training: 100.0\n",
      "Accuracy Score for testing: 70.72678331090175\n",
      "\n",
      "Classification Report:\n",
      "               precision    recall  f1-score   support\n",
      "\n",
      "           0       0.71      0.71      0.71       745\n",
      "           1       0.71      0.71      0.71       741\n",
      "\n",
      "    accuracy                           0.71      1486\n",
      "   macro avg       0.71      0.71      0.71      1486\n",
      "weighted avg       0.71      0.71      0.71      1486\n",
      "\n"
     ]
    }
   ],
   "source": [
    "model=DecisionTreeClassifier()\n",
    "metric_score(model, train, target)"
   ]
  },
  {
   "cell_type": "markdown",
   "id": "a7c78ec9",
   "metadata": {},
   "source": [
    "### Random Forest"
   ]
  },
  {
   "cell_type": "code",
   "execution_count": 52,
   "id": "6f5d42a3",
   "metadata": {},
   "outputs": [
    {
     "name": "stdout",
     "output_type": "stream",
     "text": [
      "Accuracy Score for training: 100.0\n",
      "Accuracy Score for testing: 77.65814266487214\n",
      "\n",
      "Classification Report:\n",
      "               precision    recall  f1-score   support\n",
      "\n",
      "           0       0.77      0.79      0.78       745\n",
      "           1       0.78      0.76      0.77       741\n",
      "\n",
      "    accuracy                           0.78      1486\n",
      "   macro avg       0.78      0.78      0.78      1486\n",
      "weighted avg       0.78      0.78      0.78      1486\n",
      "\n"
     ]
    }
   ],
   "source": [
    "model=RandomForestClassifier()\n",
    "metric_score(model, train, target)"
   ]
  },
  {
   "cell_type": "markdown",
   "id": "0e210cf8",
   "metadata": {},
   "source": [
    "### SVC"
   ]
  },
  {
   "cell_type": "code",
   "execution_count": 53,
   "id": "65eee24f",
   "metadata": {},
   "outputs": [
    {
     "name": "stdout",
     "output_type": "stream",
     "text": [
      "Accuracy Score for training: 66.85733512786003\n",
      "Accuracy Score for testing: 66.15074024226111\n",
      "\n",
      "Classification Report:\n",
      "               precision    recall  f1-score   support\n",
      "\n",
      "           0       0.62      0.83      0.71       745\n",
      "           1       0.74      0.49      0.59       741\n",
      "\n",
      "    accuracy                           0.66      1486\n",
      "   macro avg       0.68      0.66      0.65      1486\n",
      "weighted avg       0.68      0.66      0.65      1486\n",
      "\n"
     ]
    }
   ],
   "source": [
    "model=SVC()\n",
    "metric_score(model, train, target)"
   ]
  },
  {
   "cell_type": "markdown",
   "id": "10b29e3e",
   "metadata": {},
   "source": [
    "### XGBClassifier"
   ]
  },
  {
   "cell_type": "code",
   "execution_count": 54,
   "id": "a29398c9",
   "metadata": {},
   "outputs": [],
   "source": [
    "import xgboost as xgb"
   ]
  },
  {
   "cell_type": "code",
   "execution_count": 55,
   "id": "50b0acc6",
   "metadata": {},
   "outputs": [
    {
     "data": {
      "text/plain": [
       "XGBClassifier(base_score=0.5, booster='gbtree', callbacks=None,\n",
       "              colsample_bylevel=1, colsample_bynode=1, colsample_bytree=1,\n",
       "              early_stopping_rounds=None, enable_categorical=False,\n",
       "              eval_metric=None, feature_types=None, gamma=0, gpu_id=-1,\n",
       "              grow_policy='depthwise', importance_type=None,\n",
       "              interaction_constraints='', learning_rate=0.300000012,\n",
       "              max_bin=256, max_cat_threshold=64, max_cat_to_onehot=4,\n",
       "              max_delta_step=0, max_depth=6, max_leaves=0, min_child_weight=1,\n",
       "              missing=nan, monotone_constraints='()', n_estimators=100,\n",
       "              n_jobs=0, num_parallel_tree=1, predictor='auto', random_state=0, ...)"
      ]
     },
     "execution_count": 55,
     "metadata": {},
     "output_type": "execute_result"
    }
   ],
   "source": [
    "xgb=xgb.XGBClassifier()\n",
    "\n",
    "xgb.fit(X_train,y_train)"
   ]
  },
  {
   "cell_type": "code",
   "execution_count": 56,
   "id": "c298440f",
   "metadata": {},
   "outputs": [
    {
     "name": "stdout",
     "output_type": "stream",
     "text": [
      "Accuracy Score for training: 66.85733512786003\n",
      "Accuracy Score for testing: 66.15074024226111\n",
      "\n",
      "Classification Report:\n",
      "               precision    recall  f1-score   support\n",
      "\n",
      "           0       0.62      0.83      0.71       745\n",
      "           1       0.74      0.49      0.59       741\n",
      "\n",
      "    accuracy                           0.66      1486\n",
      "   macro avg       0.68      0.66      0.65      1486\n",
      "weighted avg       0.68      0.66      0.65      1486\n",
      "\n"
     ]
    }
   ],
   "source": [
    "metric_score(model, train, target)"
   ]
  },
  {
   "cell_type": "markdown",
   "id": "4a724548",
   "metadata": {},
   "source": [
    "###  KNeighborsClassifier\n"
   ]
  },
  {
   "cell_type": "code",
   "execution_count": 57,
   "id": "51c0f1b8",
   "metadata": {},
   "outputs": [
    {
     "name": "stdout",
     "output_type": "stream",
     "text": [
      "Accuracy Score for training: 80.5013458950202\n",
      "Accuracy Score for testing: 69.44818304172274\n",
      "\n",
      "Classification Report:\n",
      "               precision    recall  f1-score   support\n",
      "\n",
      "           0       0.68      0.73      0.71       745\n",
      "           1       0.71      0.65      0.68       741\n",
      "\n",
      "    accuracy                           0.69      1486\n",
      "   macro avg       0.70      0.69      0.69      1486\n",
      "weighted avg       0.70      0.69      0.69      1486\n",
      "\n"
     ]
    }
   ],
   "source": [
    "model=KNeighborsClassifier()\n",
    "metric_score(model, train, target)"
   ]
  },
  {
   "cell_type": "markdown",
   "id": "d5770b76",
   "metadata": {},
   "source": [
    "### Checking Crossvalidation Score"
   ]
  },
  {
   "cell_type": "code",
   "execution_count": 58,
   "id": "4020e1bc",
   "metadata": {},
   "outputs": [],
   "source": [
    "lr=LogisticRegression()\n",
    "svc=SVC()\n",
    "dt=DecisionTreeClassifier()\n",
    "rfc=RandomForestClassifier()\n",
    "knn=KNeighborsClassifier()"
   ]
  },
  {
   "cell_type": "code",
   "execution_count": 59,
   "id": "fae69fa5",
   "metadata": {},
   "outputs": [
    {
     "name": "stdout",
     "output_type": "stream",
     "text": [
      "Metrics of model LogisticRegression()\n",
      "[0.83041723 0.79138627 0.76716016 0.73216689 0.70121131 0.68909825\n",
      " 0.67967699 0.67025572 0.66756393 0.61641992]\n",
      "Mean cv score:  0.714535666218035\n",
      "0.06184515762046762\n",
      "\n",
      "\n",
      "Metrics of model DecisionTreeClassifier()\n",
      "[0.63257066 0.66756393 0.74293405 0.70524899 0.72005384 0.72812921\n",
      " 0.70524899 0.72678331 0.70928668 0.71197847]\n",
      "Mean cv score:  0.7049798115746971\n",
      "0.0306426927668989\n",
      "\n",
      "\n",
      "Metrics of model RandomForestClassifier()\n",
      "[0.73755047 0.78734859 0.76716016 0.79273217 0.76177658 0.76716016\n",
      " 0.76985195 0.77388964 0.75235532 0.7577389 ]\n",
      "Mean cv score:  0.7667563930013459\n",
      "0.015251431525706191\n",
      "\n",
      "\n",
      "Metrics of model SVC()\n",
      "[0.74158816 0.69717362 0.69448183 0.68909825 0.64333782 0.6218035\n",
      " 0.65814266 0.62584118 0.60969044 0.60699865]\n",
      "Mean cv score:  0.6588156123822342\n",
      "0.042786974316200155\n",
      "\n",
      "\n",
      "Metrics of model KNeighborsClassifier()\n",
      "[0.50336474 0.6756393  0.69717362 0.70659489 0.70121131 0.74024226\n",
      " 0.71870794 0.72543742 0.69717362 0.70121131]\n",
      "Mean cv score:  0.6866756393001345\n",
      "0.06337379339321356\n",
      "\n",
      "\n"
     ]
    }
   ],
   "source": [
    "models=[lr,dt,rfc,svc,knn]\n",
    "for m in models:\n",
    "    cvscore=cross_val_score(m,train,target,cv=10)\n",
    "    print(f'Metrics of model {m}')\n",
    "    print(cvscore)\n",
    "    print(f'Mean cv score: ',cvscore.mean())\n",
    "    print(cvscore.std())\n",
    "    print('\\n')"
   ]
  },
  {
   "cell_type": "markdown",
   "id": "17636e30",
   "metadata": {},
   "source": [
    "### Plotting roc_auc_curve to find the best model \n"
   ]
  },
  {
   "cell_type": "code",
   "execution_count": 60,
   "id": "9cc559b3",
   "metadata": {},
   "outputs": [
    {
     "name": "stdout",
     "output_type": "stream",
     "text": [
      "training done\n"
     ]
    }
   ],
   "source": [
    "lr.fit(X_train,y_train)\n",
    "svc.fit(X_train,y_train)\n",
    "dt.fit(X_train,y_train)\n",
    "rfc.fit(X_train,y_train)\n",
    "knn.fit(X_train,y_train)\n",
    "print(\"training done\")"
   ]
  },
  {
   "cell_type": "code",
   "execution_count": 61,
   "id": "8fc3a731",
   "metadata": {},
   "outputs": [
    {
     "name": "stdout",
     "output_type": "stream",
     "text": [
      "All model's  Testing score captured\n"
     ]
    }
   ],
   "source": [
    "lr.score(X_test,y_test)\n",
    "svc.score(X_test,y_test)\n",
    "rfc.score(X_test,y_test)\n",
    "dt.score(X_test,y_test)\n",
    "knn.score(X_test,y_test)\n",
    "print(\"All model's  Testing score captured\")"
   ]
  },
  {
   "cell_type": "code",
   "execution_count": 62,
   "id": "796e8195",
   "metadata": {},
   "outputs": [],
   "source": [
    "from sklearn.metrics import roc_curve,roc_auc_score\n",
    "from sklearn.metrics import plot_roc_curve"
   ]
  },
  {
   "cell_type": "code",
   "execution_count": 63,
   "id": "db455be7",
   "metadata": {},
   "outputs": [
    {
     "data": {
      "image/png": "[encoded data removed]",
      "text/plain": [
       "<Figure size 432x288 with 1 Axes>"
      ]
     },
     "metadata": {
      "needs_background": "light"
     },
     "output_type": "display_data"
    }
   ],
   "source": [
    "#plotting curves on training data\n",
    "disp=plot_roc_curve(dt,X_train,y_train)\n",
    "plot_roc_curve(rfc,X_train,y_train,ax=disp.ax_)\n",
    "plot_roc_curve(lr,X_train,y_train,ax=disp.ax_)\n",
    "plot_roc_curve(knn,X_train,y_train,ax=disp.ax_)\n",
    "\n",
    "plot_roc_curve(svc,X_train,y_train,ax=disp.ax_)\n",
    "\n",
    "plt.legend(prop={'size':10},loc='lower right')\n",
    "plt.show()"
   ]
  },
  {
   "cell_type": "code",
   "execution_count": 64,
   "id": "f1795bf2",
   "metadata": {},
   "outputs": [
    {
     "data": {
      "image/png": "[encoded data removed]",
      "text/plain": [
       "<Figure size 432x288 with 1 Axes>"
      ]
     },
     "metadata": {
      "needs_background": "light"
     },
     "output_type": "display_data"
    }
   ],
   "source": [
    "#plotting curve on test data\n",
    "disp=plot_roc_curve(dt,X_test,y_test)\n",
    "plot_roc_curve(rfc,X_test,y_test,ax=disp.ax_)\n",
    "plot_roc_curve(lr,X_test,y_test,ax=disp.ax_)\n",
    "plot_roc_curve(knn,X_test,y_test,ax=disp.ax_)\n",
    "plot_roc_curve(svc,X_test,y_test,ax=disp.ax_)\n",
    "\n",
    "\n",
    "plt.legend(prop={'size':10},loc='lower right')\n",
    "plt.show()"
   ]
  },
  {
   "cell_type": "markdown",
   "id": "36f60926",
   "metadata": {},
   "source": [
    "Decision tree and Random forest are giving 100% for training data. There may be chance of overfitting. So third highest is Logistic regression and it's same for both training and test data also in almost same score in roc_auc plot So choosing Logistic REgression model as my final model"
   ]
  },
  {
   "cell_type": "markdown",
   "id": "3c799a61",
   "metadata": {},
   "source": [
    "### Hyperparameter Tuning on LogisticRegression"
   ]
  },
  {
   "cell_type": "code",
   "execution_count": 65,
   "id": "22df7407",
   "metadata": {},
   "outputs": [],
   "source": [
    "param={'penalty':['l1', 'l2', 'elasticnet'],'C':[0.1,0.001],'max_iter':[100,50]}"
   ]
  },
  {
   "cell_type": "code",
   "execution_count": 66,
   "id": "ac09513a",
   "metadata": {},
   "outputs": [
    {
     "name": "stdout",
     "output_type": "stream",
     "text": [
      "best params {'C': 0.1, 'max_iter': 100, 'penalty': 'l2'}\n"
     ]
    }
   ],
   "source": [
    "grid=GridSearchCV(lr,param_grid=param,scoring='accuracy')\n",
    "grid.fit(X_train,y_train)\n",
    "\n",
    "print(\"best params\",grid.best_params_)"
   ]
  },
  {
   "cell_type": "code",
   "execution_count": 67,
   "id": "920080b3",
   "metadata": {},
   "outputs": [
    {
     "data": {
      "text/plain": [
       "LogisticRegression(C=0.1)"
      ]
     },
     "execution_count": 67,
     "metadata": {},
     "output_type": "execute_result"
    }
   ],
   "source": [
    "lr=grid.best_estimator_ #will cover all best parameters,as equal as tuning the paramters\n",
    "lr.fit(X_train,y_train)"
   ]
  },
  {
   "cell_type": "code",
   "execution_count": 68,
   "id": "e5826d04",
   "metadata": {},
   "outputs": [
    {
     "name": "stdout",
     "output_type": "stream",
     "text": [
      "Accuracy Score for training: 72.05585464333782\n",
      "Accuracy Score for testing: 70.65948855989232\n",
      "\n",
      "Classification Report:\n",
      "               precision    recall  f1-score   support\n",
      "\n",
      "           0       0.70      0.74      0.72       745\n",
      "           1       0.72      0.68      0.70       741\n",
      "\n",
      "    accuracy                           0.71      1486\n",
      "   macro avg       0.71      0.71      0.71      1486\n",
      "weighted avg       0.71      0.71      0.71      1486\n",
      "\n"
     ]
    }
   ],
   "source": [
    "metric_score(lr, train, target)"
   ]
  },
  {
   "cell_type": "markdown",
   "id": "da640840",
   "metadata": {},
   "source": [
    "#### Accuracy before tuning the parameter: 70.59219380888291\n",
    "#### Accuracy after tuning the parameter   : 70.65948855989232\n",
    "\n",
    "### Saving the model in LogisticRegression\n"
   ]
  },
  {
   "cell_type": "code",
   "execution_count": 69,
   "id": "c7a62d7b",
   "metadata": {},
   "outputs": [],
   "source": [
    "import pickle"
   ]
  },
  {
   "cell_type": "code",
   "execution_count": 70,
   "id": "fccb6539",
   "metadata": {},
   "outputs": [],
   "source": [
    "filename='bank marketing.pkl'"
   ]
  },
  {
   "cell_type": "code",
   "execution_count": 71,
   "id": "f4cfcb46",
   "metadata": {},
   "outputs": [],
   "source": [
    "pickle.dump(lr,open(filename,'wb'))"
   ]
  },
  {
   "cell_type": "markdown",
   "id": "f3d870f8",
   "metadata": {},
   "source": [
    "### Loading test data"
   ]
  },
  {
   "cell_type": "code",
   "execution_count": 72,
   "id": "e97f2f43",
   "metadata": {},
   "outputs": [
    {
     "data": {
      "text/html": [
       "<div>\n",
       "<style scoped>\n",
       "    .dataframe tbody tr th:only-of-type {\n",
       "        vertical-align: middle;\n",
       "    }\n",
       "\n",
       "    .dataframe tbody tr th {\n",
       "        vertical-align: top;\n",
       "    }\n",
       "\n",
       "    .dataframe thead th {\n",
       "        text-align: right;\n",
       "    }\n",
       "</style>\n",
       "<table border=\"1\" class=\"dataframe\">\n",
       "  <thead>\n",
       "    <tr style=\"text-align: right;\">\n",
       "      <th></th>\n",
       "      <th>ID</th>\n",
       "      <th>age</th>\n",
       "      <th>job</th>\n",
       "      <th>marital</th>\n",
       "      <th>education</th>\n",
       "      <th>default</th>\n",
       "      <th>balance</th>\n",
       "      <th>housing</th>\n",
       "      <th>loan</th>\n",
       "      <th>contact</th>\n",
       "      <th>day</th>\n",
       "      <th>month</th>\n",
       "      <th>duration</th>\n",
       "      <th>campaign</th>\n",
       "      <th>pdays</th>\n",
       "      <th>previous</th>\n",
       "      <th>poutcome</th>\n",
       "    </tr>\n",
       "  </thead>\n",
       "  <tbody>\n",
       "    <tr>\n",
       "      <th>0</th>\n",
       "      <td>38441</td>\n",
       "      <td>32</td>\n",
       "      <td>services</td>\n",
       "      <td>married</td>\n",
       "      <td>secondary</td>\n",
       "      <td>no</td>\n",
       "      <td>118</td>\n",
       "      <td>yes</td>\n",
       "      <td>no</td>\n",
       "      <td>cellular</td>\n",
       "      <td>15</td>\n",
       "      <td>may</td>\n",
       "      <td>20</td>\n",
       "      <td>6</td>\n",
       "      <td>-1</td>\n",
       "      <td>0</td>\n",
       "      <td>unknown</td>\n",
       "    </tr>\n",
       "    <tr>\n",
       "      <th>1</th>\n",
       "      <td>40403</td>\n",
       "      <td>78</td>\n",
       "      <td>retired</td>\n",
       "      <td>divorced</td>\n",
       "      <td>primary</td>\n",
       "      <td>no</td>\n",
       "      <td>2787</td>\n",
       "      <td>no</td>\n",
       "      <td>no</td>\n",
       "      <td>telephone</td>\n",
       "      <td>1</td>\n",
       "      <td>jul</td>\n",
       "      <td>372</td>\n",
       "      <td>1</td>\n",
       "      <td>-1</td>\n",
       "      <td>0</td>\n",
       "      <td>unknown</td>\n",
       "    </tr>\n",
       "    <tr>\n",
       "      <th>2</th>\n",
       "      <td>3709</td>\n",
       "      <td>31</td>\n",
       "      <td>self-employed</td>\n",
       "      <td>single</td>\n",
       "      <td>tertiary</td>\n",
       "      <td>no</td>\n",
       "      <td>144</td>\n",
       "      <td>yes</td>\n",
       "      <td>no</td>\n",
       "      <td>unknown</td>\n",
       "      <td>16</td>\n",
       "      <td>may</td>\n",
       "      <td>676</td>\n",
       "      <td>1</td>\n",
       "      <td>-1</td>\n",
       "      <td>0</td>\n",
       "      <td>unknown</td>\n",
       "    </tr>\n",
       "    <tr>\n",
       "      <th>3</th>\n",
       "      <td>37422</td>\n",
       "      <td>57</td>\n",
       "      <td>services</td>\n",
       "      <td>single</td>\n",
       "      <td>primary</td>\n",
       "      <td>no</td>\n",
       "      <td>3777</td>\n",
       "      <td>yes</td>\n",
       "      <td>no</td>\n",
       "      <td>telephone</td>\n",
       "      <td>13</td>\n",
       "      <td>may</td>\n",
       "      <td>65</td>\n",
       "      <td>2</td>\n",
       "      <td>-1</td>\n",
       "      <td>0</td>\n",
       "      <td>unknown</td>\n",
       "    </tr>\n",
       "    <tr>\n",
       "      <th>4</th>\n",
       "      <td>12527</td>\n",
       "      <td>45</td>\n",
       "      <td>blue-collar</td>\n",
       "      <td>divorced</td>\n",
       "      <td>secondary</td>\n",
       "      <td>no</td>\n",
       "      <td>-705</td>\n",
       "      <td>no</td>\n",
       "      <td>yes</td>\n",
       "      <td>unknown</td>\n",
       "      <td>3</td>\n",
       "      <td>jul</td>\n",
       "      <td>111</td>\n",
       "      <td>1</td>\n",
       "      <td>-1</td>\n",
       "      <td>0</td>\n",
       "      <td>unknown</td>\n",
       "    </tr>\n",
       "  </tbody>\n",
       "</table>\n",
       "</div>"
      ],
      "text/plain": [
       "      ID  age            job   marital  education default  balance housing  \\\n",
       "0  38441   32       services   married  secondary      no      118     yes   \n",
       "1  40403   78        retired  divorced    primary      no     2787      no   \n",
       "2   3709   31  self-employed    single   tertiary      no      144     yes   \n",
       "3  37422   57       services    single    primary      no     3777     yes   \n",
       "4  12527   45    blue-collar  divorced  secondary      no     -705      no   \n",
       "\n",
       "  loan    contact  day month  duration  campaign  pdays  previous poutcome  \n",
       "0   no   cellular   15   may        20         6     -1         0  unknown  \n",
       "1   no  telephone    1   jul       372         1     -1         0  unknown  \n",
       "2   no    unknown   16   may       676         1     -1         0  unknown  \n",
       "3   no  telephone   13   may        65         2     -1         0  unknown  \n",
       "4  yes    unknown    3   jul       111         1     -1         0  unknown  "
      ]
     },
     "execution_count": 72,
     "metadata": {},
     "output_type": "execute_result"
    }
   ],
   "source": [
    "#test data\n",
    "test=pd.read_csv('https://raw.githubusercontent.com/dsrscientist/dataset5/main/termdeposit_test.csv')\n",
    "test.head()"
   ]
  },
  {
   "cell_type": "code",
   "execution_count": 73,
   "id": "0b550d9d",
   "metadata": {},
   "outputs": [
    {
     "data": {
      "text/plain": [
       "ID           0\n",
       "age          0\n",
       "job          0\n",
       "marital      0\n",
       "education    0\n",
       "default      0\n",
       "balance      0\n",
       "housing      0\n",
       "loan         0\n",
       "contact      0\n",
       "day          0\n",
       "month        0\n",
       "duration     0\n",
       "campaign     0\n",
       "pdays        0\n",
       "previous     0\n",
       "poutcome     0\n",
       "dtype: int64"
      ]
     },
     "execution_count": 73,
     "metadata": {},
     "output_type": "execute_result"
    }
   ],
   "source": [
    "#Checking for null values\n",
    "test.isnull().sum()"
   ]
  },
  {
   "cell_type": "code",
   "execution_count": 74,
   "id": "d63cff4e",
   "metadata": {},
   "outputs": [
    {
     "data": {
      "text/plain": [
       "Index(['ID', 'age', 'job', 'marital', 'education', 'default', 'balance',\n",
       "       'housing', 'loan', 'contact', 'day', 'month', 'duration', 'campaign',\n",
       "       'pdays', 'previous', 'poutcome'],\n",
       "      dtype='object')"
      ]
     },
     "execution_count": 74,
     "metadata": {},
     "output_type": "execute_result"
    }
   ],
   "source": [
    "test.columns"
   ]
  },
  {
   "cell_type": "code",
   "execution_count": 75,
   "id": "b26859ff",
   "metadata": {},
   "outputs": [
    {
     "name": "stdout",
     "output_type": "stream",
     "text": [
      "Number of rows and columns in Test Data: (13564, 17)\n"
     ]
    }
   ],
   "source": [
    "print(\"Number of rows and columns in Test Data:\",test.shape)"
   ]
  },
  {
   "cell_type": "code",
   "execution_count": 76,
   "id": "ccbeda60",
   "metadata": {},
   "outputs": [
    {
     "data": {
      "text/html": [
       "<div>\n",
       "<style scoped>\n",
       "    .dataframe tbody tr th:only-of-type {\n",
       "        vertical-align: middle;\n",
       "    }\n",
       "\n",
       "    .dataframe tbody tr th {\n",
       "        vertical-align: top;\n",
       "    }\n",
       "\n",
       "    .dataframe thead th {\n",
       "        text-align: right;\n",
       "    }\n",
       "</style>\n",
       "<table border=\"1\" class=\"dataframe\">\n",
       "  <thead>\n",
       "    <tr style=\"text-align: right;\">\n",
       "      <th></th>\n",
       "      <th>ID</th>\n",
       "      <th>age</th>\n",
       "      <th>balance</th>\n",
       "      <th>day</th>\n",
       "      <th>duration</th>\n",
       "      <th>campaign</th>\n",
       "      <th>pdays</th>\n",
       "      <th>previous</th>\n",
       "    </tr>\n",
       "  </thead>\n",
       "  <tbody>\n",
       "    <tr>\n",
       "      <th>count</th>\n",
       "      <td>13564.000000</td>\n",
       "      <td>13564.000000</td>\n",
       "      <td>13564.000000</td>\n",
       "      <td>13564.000000</td>\n",
       "      <td>13564.000000</td>\n",
       "      <td>13564.000000</td>\n",
       "      <td>13564.000000</td>\n",
       "      <td>13564.000000</td>\n",
       "    </tr>\n",
       "    <tr>\n",
       "      <th>mean</th>\n",
       "      <td>22704.057726</td>\n",
       "      <td>40.887128</td>\n",
       "      <td>1358.496535</td>\n",
       "      <td>15.738646</td>\n",
       "      <td>258.278679</td>\n",
       "      <td>2.759510</td>\n",
       "      <td>41.648555</td>\n",
       "      <td>0.594441</td>\n",
       "    </tr>\n",
       "    <tr>\n",
       "      <th>std</th>\n",
       "      <td>12994.043329</td>\n",
       "      <td>10.604108</td>\n",
       "      <td>3082.940623</td>\n",
       "      <td>8.288174</td>\n",
       "      <td>258.488648</td>\n",
       "      <td>3.060928</td>\n",
       "      <td>101.985178</td>\n",
       "      <td>1.998193</td>\n",
       "    </tr>\n",
       "    <tr>\n",
       "      <th>min</th>\n",
       "      <td>1.000000</td>\n",
       "      <td>18.000000</td>\n",
       "      <td>-3313.000000</td>\n",
       "      <td>1.000000</td>\n",
       "      <td>0.000000</td>\n",
       "      <td>1.000000</td>\n",
       "      <td>-1.000000</td>\n",
       "      <td>0.000000</td>\n",
       "    </tr>\n",
       "    <tr>\n",
       "      <th>25%</th>\n",
       "      <td>11546.000000</td>\n",
       "      <td>33.000000</td>\n",
       "      <td>71.000000</td>\n",
       "      <td>8.000000</td>\n",
       "      <td>102.000000</td>\n",
       "      <td>1.000000</td>\n",
       "      <td>-1.000000</td>\n",
       "      <td>0.000000</td>\n",
       "    </tr>\n",
       "    <tr>\n",
       "      <th>50%</th>\n",
       "      <td>22782.000000</td>\n",
       "      <td>39.000000</td>\n",
       "      <td>445.000000</td>\n",
       "      <td>16.000000</td>\n",
       "      <td>180.000000</td>\n",
       "      <td>2.000000</td>\n",
       "      <td>-1.000000</td>\n",
       "      <td>0.000000</td>\n",
       "    </tr>\n",
       "    <tr>\n",
       "      <th>75%</th>\n",
       "      <td>33974.250000</td>\n",
       "      <td>48.000000</td>\n",
       "      <td>1413.250000</td>\n",
       "      <td>21.000000</td>\n",
       "      <td>319.000000</td>\n",
       "      <td>3.000000</td>\n",
       "      <td>-1.000000</td>\n",
       "      <td>0.000000</td>\n",
       "    </tr>\n",
       "    <tr>\n",
       "      <th>max</th>\n",
       "      <td>45206.000000</td>\n",
       "      <td>95.000000</td>\n",
       "      <td>98417.000000</td>\n",
       "      <td>31.000000</td>\n",
       "      <td>3253.000000</td>\n",
       "      <td>58.000000</td>\n",
       "      <td>850.000000</td>\n",
       "      <td>55.000000</td>\n",
       "    </tr>\n",
       "  </tbody>\n",
       "</table>\n",
       "</div>"
      ],
      "text/plain": [
       "                 ID           age       balance           day      duration  \\\n",
       "count  13564.000000  13564.000000  13564.000000  13564.000000  13564.000000   \n",
       "mean   22704.057726     40.887128   1358.496535     15.738646    258.278679   \n",
       "std    12994.043329     10.604108   3082.940623      8.288174    258.488648   \n",
       "min        1.000000     18.000000  -3313.000000      1.000000      0.000000   \n",
       "25%    11546.000000     33.000000     71.000000      8.000000    102.000000   \n",
       "50%    22782.000000     39.000000    445.000000     16.000000    180.000000   \n",
       "75%    33974.250000     48.000000   1413.250000     21.000000    319.000000   \n",
       "max    45206.000000     95.000000  98417.000000     31.000000   3253.000000   \n",
       "\n",
       "           campaign         pdays      previous  \n",
       "count  13564.000000  13564.000000  13564.000000  \n",
       "mean       2.759510     41.648555      0.594441  \n",
       "std        3.060928    101.985178      1.998193  \n",
       "min        1.000000     -1.000000      0.000000  \n",
       "25%        1.000000     -1.000000      0.000000  \n",
       "50%        2.000000     -1.000000      0.000000  \n",
       "75%        3.000000     -1.000000      0.000000  \n",
       "max       58.000000    850.000000     55.000000  "
      ]
     },
     "execution_count": 76,
     "metadata": {},
     "output_type": "execute_result"
    }
   ],
   "source": [
    "test.describe()"
   ]
  },
  {
   "cell_type": "code",
   "execution_count": 77,
   "id": "35c829fb",
   "metadata": {},
   "outputs": [
    {
     "data": {
      "text/html": [
       "<div>\n",
       "<style scoped>\n",
       "    .dataframe tbody tr th:only-of-type {\n",
       "        vertical-align: middle;\n",
       "    }\n",
       "\n",
       "    .dataframe tbody tr th {\n",
       "        vertical-align: top;\n",
       "    }\n",
       "\n",
       "    .dataframe thead th {\n",
       "        text-align: right;\n",
       "    }\n",
       "</style>\n",
       "<table border=\"1\" class=\"dataframe\">\n",
       "  <thead>\n",
       "    <tr style=\"text-align: right;\">\n",
       "      <th></th>\n",
       "      <th>age</th>\n",
       "      <th>balance</th>\n",
       "      <th>duration</th>\n",
       "    </tr>\n",
       "  </thead>\n",
       "  <tbody>\n",
       "    <tr>\n",
       "      <th>0</th>\n",
       "      <td>32</td>\n",
       "      <td>118</td>\n",
       "      <td>20</td>\n",
       "    </tr>\n",
       "    <tr>\n",
       "      <th>1</th>\n",
       "      <td>78</td>\n",
       "      <td>2787</td>\n",
       "      <td>372</td>\n",
       "    </tr>\n",
       "    <tr>\n",
       "      <th>2</th>\n",
       "      <td>31</td>\n",
       "      <td>144</td>\n",
       "      <td>676</td>\n",
       "    </tr>\n",
       "    <tr>\n",
       "      <th>3</th>\n",
       "      <td>57</td>\n",
       "      <td>3777</td>\n",
       "      <td>65</td>\n",
       "    </tr>\n",
       "    <tr>\n",
       "      <th>4</th>\n",
       "      <td>45</td>\n",
       "      <td>-705</td>\n",
       "      <td>111</td>\n",
       "    </tr>\n",
       "    <tr>\n",
       "      <th>...</th>\n",
       "      <td>...</td>\n",
       "      <td>...</td>\n",
       "      <td>...</td>\n",
       "    </tr>\n",
       "    <tr>\n",
       "      <th>13559</th>\n",
       "      <td>39</td>\n",
       "      <td>45</td>\n",
       "      <td>148</td>\n",
       "    </tr>\n",
       "    <tr>\n",
       "      <th>13560</th>\n",
       "      <td>54</td>\n",
       "      <td>2281</td>\n",
       "      <td>158</td>\n",
       "    </tr>\n",
       "    <tr>\n",
       "      <th>13561</th>\n",
       "      <td>35</td>\n",
       "      <td>285</td>\n",
       "      <td>136</td>\n",
       "    </tr>\n",
       "    <tr>\n",
       "      <th>13562</th>\n",
       "      <td>29</td>\n",
       "      <td>464</td>\n",
       "      <td>208</td>\n",
       "    </tr>\n",
       "    <tr>\n",
       "      <th>13563</th>\n",
       "      <td>29</td>\n",
       "      <td>2</td>\n",
       "      <td>339</td>\n",
       "    </tr>\n",
       "  </tbody>\n",
       "</table>\n",
       "<p>13564 rows × 3 columns</p>\n",
       "</div>"
      ],
      "text/plain": [
       "       age  balance  duration\n",
       "0       32      118        20\n",
       "1       78     2787       372\n",
       "2       31      144       676\n",
       "3       57     3777        65\n",
       "4       45     -705       111\n",
       "...    ...      ...       ...\n",
       "13559   39       45       148\n",
       "13560   54     2281       158\n",
       "13561   35      285       136\n",
       "13562   29      464       208\n",
       "13563   29        2       339\n",
       "\n",
       "[13564 rows x 3 columns]"
      ]
     },
     "execution_count": 77,
     "metadata": {},
     "output_type": "execute_result"
    }
   ],
   "source": [
    "continous=test[['age','balance','duration']]\n",
    "continous"
   ]
  },
  {
   "cell_type": "code",
   "execution_count": 79,
   "id": "cdf49e85",
   "metadata": {},
   "outputs": [
    {
     "data": {
      "image/png": "[encoded data removed]",
      "text/plain": [
       "<Figure size 1440x1080 with 3 Axes>"
      ]
     },
     "metadata": {},
     "output_type": "display_data"
    }
   ],
   "source": [
    "plt.figure(figsize=(20,15),facecolor='lightgreen')\n",
    "plot_number=1\n",
    "\n",
    "for column in continous:\n",
    "    if plot_number<=3: \n",
    "        ax=plt.subplot(3,2,plot_number)\n",
    "        sns.distplot(continous[column]) \n",
    "        plt.xlabel(column,fontsize=20)\n",
    "     \n",
    "    plot_number +=1\n",
    "    \n",
    "    \n",
    "plt.tight_layout()"
   ]
  },
  {
   "cell_type": "markdown",
   "id": "c0c2f965",
   "metadata": {},
   "source": [
    "### Checking for skewness and removal"
   ]
  },
  {
   "cell_type": "code",
   "execution_count": 80,
   "id": "0ae978d0",
   "metadata": {},
   "outputs": [
    {
     "name": "stdout",
     "output_type": "stream",
     "text": [
      "Before Transformation Skewness:\n",
      " age         0.692404\n",
      "balance     9.165015\n",
      "duration    3.017221\n",
      "dtype: float64\n"
     ]
    }
   ],
   "source": [
    "print(\"Before Transformation Skewness:\\n\",continous.skew())"
   ]
  },
  {
   "cell_type": "code",
   "execution_count": 81,
   "id": "a2fa446a",
   "metadata": {},
   "outputs": [],
   "source": [
    "continous['age']=np.log(continous['age'])\n",
    "continous['balance']=np.log(continous['balance'])\n",
    "continous['duration']=np.log(continous['duration'])"
   ]
  },
  {
   "cell_type": "code",
   "execution_count": 82,
   "id": "c512e756",
   "metadata": {},
   "outputs": [
    {
     "name": "stdout",
     "output_type": "stream",
     "text": [
      "Afetr Transformation Skewness:\n",
      " age         0.09585\n",
      "balance         NaN\n",
      "duration        NaN\n",
      "dtype: float64\n"
     ]
    }
   ],
   "source": [
    "print(\"Afetr Transformation Skewness:\\n\",continous.skew())"
   ]
  },
  {
   "cell_type": "markdown",
   "id": "e35ae01b",
   "metadata": {},
   "source": [
    " ### Let's now make the prediction on test dataset\n",
    "\n"
   ]
  },
  {
   "cell_type": "code",
   "execution_count": 83,
   "id": "376ede35",
   "metadata": {},
   "outputs": [
    {
     "data": {
      "text/html": [
       "<div>\n",
       "<style scoped>\n",
       "    .dataframe tbody tr th:only-of-type {\n",
       "        vertical-align: middle;\n",
       "    }\n",
       "\n",
       "    .dataframe tbody tr th {\n",
       "        vertical-align: top;\n",
       "    }\n",
       "\n",
       "    .dataframe thead th {\n",
       "        text-align: right;\n",
       "    }\n",
       "</style>\n",
       "<table border=\"1\" class=\"dataframe\">\n",
       "  <thead>\n",
       "    <tr style=\"text-align: right;\">\n",
       "      <th></th>\n",
       "      <th>ID</th>\n",
       "      <th>age</th>\n",
       "      <th>balance</th>\n",
       "      <th>day</th>\n",
       "      <th>duration</th>\n",
       "      <th>campaign</th>\n",
       "      <th>pdays</th>\n",
       "      <th>previous</th>\n",
       "      <th>job_admin.</th>\n",
       "      <th>job_blue-collar</th>\n",
       "      <th>...</th>\n",
       "      <th>month_jun</th>\n",
       "      <th>month_mar</th>\n",
       "      <th>month_may</th>\n",
       "      <th>month_nov</th>\n",
       "      <th>month_oct</th>\n",
       "      <th>month_sep</th>\n",
       "      <th>poutcome_failure</th>\n",
       "      <th>poutcome_other</th>\n",
       "      <th>poutcome_success</th>\n",
       "      <th>poutcome_unknown</th>\n",
       "    </tr>\n",
       "  </thead>\n",
       "  <tbody>\n",
       "    <tr>\n",
       "      <th>0</th>\n",
       "      <td>38441</td>\n",
       "      <td>32</td>\n",
       "      <td>118</td>\n",
       "      <td>15</td>\n",
       "      <td>20</td>\n",
       "      <td>6</td>\n",
       "      <td>-1</td>\n",
       "      <td>0</td>\n",
       "      <td>0</td>\n",
       "      <td>0</td>\n",
       "      <td>...</td>\n",
       "      <td>0</td>\n",
       "      <td>0</td>\n",
       "      <td>1</td>\n",
       "      <td>0</td>\n",
       "      <td>0</td>\n",
       "      <td>0</td>\n",
       "      <td>0</td>\n",
       "      <td>0</td>\n",
       "      <td>0</td>\n",
       "      <td>1</td>\n",
       "    </tr>\n",
       "    <tr>\n",
       "      <th>1</th>\n",
       "      <td>40403</td>\n",
       "      <td>78</td>\n",
       "      <td>2787</td>\n",
       "      <td>1</td>\n",
       "      <td>372</td>\n",
       "      <td>1</td>\n",
       "      <td>-1</td>\n",
       "      <td>0</td>\n",
       "      <td>0</td>\n",
       "      <td>0</td>\n",
       "      <td>...</td>\n",
       "      <td>0</td>\n",
       "      <td>0</td>\n",
       "      <td>0</td>\n",
       "      <td>0</td>\n",
       "      <td>0</td>\n",
       "      <td>0</td>\n",
       "      <td>0</td>\n",
       "      <td>0</td>\n",
       "      <td>0</td>\n",
       "      <td>1</td>\n",
       "    </tr>\n",
       "    <tr>\n",
       "      <th>2</th>\n",
       "      <td>3709</td>\n",
       "      <td>31</td>\n",
       "      <td>144</td>\n",
       "      <td>16</td>\n",
       "      <td>676</td>\n",
       "      <td>1</td>\n",
       "      <td>-1</td>\n",
       "      <td>0</td>\n",
       "      <td>0</td>\n",
       "      <td>0</td>\n",
       "      <td>...</td>\n",
       "      <td>0</td>\n",
       "      <td>0</td>\n",
       "      <td>1</td>\n",
       "      <td>0</td>\n",
       "      <td>0</td>\n",
       "      <td>0</td>\n",
       "      <td>0</td>\n",
       "      <td>0</td>\n",
       "      <td>0</td>\n",
       "      <td>1</td>\n",
       "    </tr>\n",
       "    <tr>\n",
       "      <th>3</th>\n",
       "      <td>37422</td>\n",
       "      <td>57</td>\n",
       "      <td>3777</td>\n",
       "      <td>13</td>\n",
       "      <td>65</td>\n",
       "      <td>2</td>\n",
       "      <td>-1</td>\n",
       "      <td>0</td>\n",
       "      <td>0</td>\n",
       "      <td>0</td>\n",
       "      <td>...</td>\n",
       "      <td>0</td>\n",
       "      <td>0</td>\n",
       "      <td>1</td>\n",
       "      <td>0</td>\n",
       "      <td>0</td>\n",
       "      <td>0</td>\n",
       "      <td>0</td>\n",
       "      <td>0</td>\n",
       "      <td>0</td>\n",
       "      <td>1</td>\n",
       "    </tr>\n",
       "    <tr>\n",
       "      <th>4</th>\n",
       "      <td>12527</td>\n",
       "      <td>45</td>\n",
       "      <td>-705</td>\n",
       "      <td>3</td>\n",
       "      <td>111</td>\n",
       "      <td>1</td>\n",
       "      <td>-1</td>\n",
       "      <td>0</td>\n",
       "      <td>0</td>\n",
       "      <td>1</td>\n",
       "      <td>...</td>\n",
       "      <td>0</td>\n",
       "      <td>0</td>\n",
       "      <td>0</td>\n",
       "      <td>0</td>\n",
       "      <td>0</td>\n",
       "      <td>0</td>\n",
       "      <td>0</td>\n",
       "      <td>0</td>\n",
       "      <td>0</td>\n",
       "      <td>1</td>\n",
       "    </tr>\n",
       "  </tbody>\n",
       "</table>\n",
       "<p>5 rows × 52 columns</p>\n",
       "</div>"
      ],
      "text/plain": [
       "      ID  age  balance  day  duration  campaign  pdays  previous  job_admin.  \\\n",
       "0  38441   32      118   15        20         6     -1         0           0   \n",
       "1  40403   78     2787    1       372         1     -1         0           0   \n",
       "2   3709   31      144   16       676         1     -1         0           0   \n",
       "3  37422   57     3777   13        65         2     -1         0           0   \n",
       "4  12527   45     -705    3       111         1     -1         0           0   \n",
       "\n",
       "   job_blue-collar  ...  month_jun  month_mar  month_may  month_nov  \\\n",
       "0                0  ...          0          0          1          0   \n",
       "1                0  ...          0          0          0          0   \n",
       "2                0  ...          0          0          1          0   \n",
       "3                0  ...          0          0          1          0   \n",
       "4                1  ...          0          0          0          0   \n",
       "\n",
       "   month_oct  month_sep  poutcome_failure  poutcome_other  poutcome_success  \\\n",
       "0          0          0                 0               0                 0   \n",
       "1          0          0                 0               0                 0   \n",
       "2          0          0                 0               0                 0   \n",
       "3          0          0                 0               0                 0   \n",
       "4          0          0                 0               0                 0   \n",
       "\n",
       "   poutcome_unknown  \n",
       "0                 1  \n",
       "1                 1  \n",
       "2                 1  \n",
       "3                 1  \n",
       "4                 1  \n",
       "\n",
       "[5 rows x 52 columns]"
      ]
     },
     "execution_count": 83,
     "metadata": {},
     "output_type": "execute_result"
    }
   ],
   "source": [
    "test = pd.get_dummies(test)\n",
    "test.head()"
   ]
  },
  {
   "cell_type": "markdown",
   "id": "6a3278f9",
   "metadata": {},
   "source": [
    "### loading the saved model and  predict"
   ]
  },
  {
   "cell_type": "code",
   "execution_count": 84,
   "id": "c9d702a7",
   "metadata": {},
   "outputs": [
    {
     "data": {
      "text/plain": [
       "array([0, 1, 1, ..., 0, 0, 1], dtype=int64)"
      ]
     },
     "execution_count": 84,
     "metadata": {},
     "output_type": "execute_result"
    }
   ],
   "source": [
    "loaded_model=pickle.load(open(filename, 'rb'))\n",
    "test_predict=loaded_model.predict(test) \n",
    "test_predict"
   ]
  },
  {
   "cell_type": "markdown",
   "id": "17702b80",
   "metadata": {},
   "source": [
    "### Another method for predicting on test dataset "
   ]
  },
  {
   "cell_type": "code",
   "execution_count": 85,
   "id": "df41d83f",
   "metadata": {},
   "outputs": [
    {
     "data": {
      "text/plain": [
       "array([0, 1, 1, ..., 0, 0, 1], dtype=int64)"
      ]
     },
     "execution_count": 85,
     "metadata": {},
     "output_type": "execute_result"
    }
   ],
   "source": [
    "test_pred = lr.predict(test)\n",
    "test_pred"
   ]
  },
  {
   "cell_type": "markdown",
   "id": "ba25490d",
   "metadata": {},
   "source": [
    "### Finally, we will save these predictions into a csv file.\n",
    "\n"
   ]
  },
  {
   "cell_type": "code",
   "execution_count": 86,
   "id": "3ff5b23b",
   "metadata": {},
   "outputs": [],
   "source": [
    "submissions = pd.DataFrame()"
   ]
  },
  {
   "cell_type": "code",
   "execution_count": 87,
   "id": "a1b00f1d",
   "metadata": {},
   "outputs": [],
   "source": [
    "submissions['ID'] = test['ID']\n",
    "submissions['subscribed'] = test_predict\n"
   ]
  },
  {
   "cell_type": "code",
   "execution_count": 88,
   "id": "324634e6",
   "metadata": {},
   "outputs": [
    {
     "data": {
      "text/plain": [
       "0        0\n",
       "1        1\n",
       "2        1\n",
       "3        1\n",
       "4        0\n",
       "        ..\n",
       "13559    0\n",
       "13560    0\n",
       "13561    0\n",
       "13562    0\n",
       "13563    1\n",
       "Name: subscribed, Length: 13564, dtype: int64"
      ]
     },
     "execution_count": 88,
     "metadata": {},
     "output_type": "execute_result"
    }
   ],
   "source": [
    "submissions['subscribed']"
   ]
  },
  {
   "cell_type": "markdown",
   "id": "b6e20fd9",
   "metadata": {},
   "source": [
    "Since the target variable is yes or no, we will convert 1 and 0 in the predictions to yes and no respectively.\n",
    "\n"
   ]
  },
  {
   "cell_type": "code",
   "execution_count": 89,
   "id": "5c866a16",
   "metadata": {},
   "outputs": [],
   "source": [
    "submissions['subscribed'].replace(0,'no',inplace=True)\n",
    "submissions['subscribed'].replace(1,'yes',inplace=True)"
   ]
  },
  {
   "cell_type": "code",
   "execution_count": 90,
   "id": "1d95bdac",
   "metadata": {},
   "outputs": [
    {
     "data": {
      "text/plain": [
       "0         no\n",
       "1        yes\n",
       "2        yes\n",
       "3        yes\n",
       "4         no\n",
       "        ... \n",
       "13559     no\n",
       "13560     no\n",
       "13561     no\n",
       "13562     no\n",
       "13563    yes\n",
       "Name: subscribed, Length: 13564, dtype: object"
      ]
     },
     "execution_count": 90,
     "metadata": {},
     "output_type": "execute_result"
    }
   ],
   "source": [
    "submissions['subscribed']\n"
   ]
  },
  {
   "cell_type": "code",
   "execution_count": 91,
   "id": "0728efbf",
   "metadata": {},
   "outputs": [],
   "source": [
    "submissions.to_csv('submission file.csv', header=True, index=False)\n"
   ]
  },
  {
   "cell_type": "code",
   "execution_count": 92,
   "id": "8c05ab15",
   "metadata": {},
   "outputs": [
    {
     "data": {
      "text/html": [
       "<div>\n",
       "<style scoped>\n",
       "    .dataframe tbody tr th:only-of-type {\n",
       "        vertical-align: middle;\n",
       "    }\n",
       "\n",
       "    .dataframe tbody tr th {\n",
       "        vertical-align: top;\n",
       "    }\n",
       "\n",
       "    .dataframe thead th {\n",
       "        text-align: right;\n",
       "    }\n",
       "</style>\n",
       "<table border=\"1\" class=\"dataframe\">\n",
       "  <thead>\n",
       "    <tr style=\"text-align: right;\">\n",
       "      <th></th>\n",
       "      <th>ID</th>\n",
       "      <th>subscribed</th>\n",
       "    </tr>\n",
       "  </thead>\n",
       "  <tbody>\n",
       "    <tr>\n",
       "      <th>0</th>\n",
       "      <td>38441</td>\n",
       "      <td>no</td>\n",
       "    </tr>\n",
       "    <tr>\n",
       "      <th>1</th>\n",
       "      <td>40403</td>\n",
       "      <td>yes</td>\n",
       "    </tr>\n",
       "    <tr>\n",
       "      <th>2</th>\n",
       "      <td>3709</td>\n",
       "      <td>yes</td>\n",
       "    </tr>\n",
       "    <tr>\n",
       "      <th>3</th>\n",
       "      <td>37422</td>\n",
       "      <td>yes</td>\n",
       "    </tr>\n",
       "    <tr>\n",
       "      <th>4</th>\n",
       "      <td>12527</td>\n",
       "      <td>no</td>\n",
       "    </tr>\n",
       "    <tr>\n",
       "      <th>...</th>\n",
       "      <td>...</td>\n",
       "      <td>...</td>\n",
       "    </tr>\n",
       "    <tr>\n",
       "      <th>13559</th>\n",
       "      <td>23465</td>\n",
       "      <td>no</td>\n",
       "    </tr>\n",
       "    <tr>\n",
       "      <th>13560</th>\n",
       "      <td>11743</td>\n",
       "      <td>no</td>\n",
       "    </tr>\n",
       "    <tr>\n",
       "      <th>13561</th>\n",
       "      <td>28292</td>\n",
       "      <td>no</td>\n",
       "    </tr>\n",
       "    <tr>\n",
       "      <th>13562</th>\n",
       "      <td>45163</td>\n",
       "      <td>no</td>\n",
       "    </tr>\n",
       "    <tr>\n",
       "      <th>13563</th>\n",
       "      <td>34839</td>\n",
       "      <td>yes</td>\n",
       "    </tr>\n",
       "  </tbody>\n",
       "</table>\n",
       "<p>13564 rows × 2 columns</p>\n",
       "</div>"
      ],
      "text/plain": [
       "          ID subscribed\n",
       "0      38441         no\n",
       "1      40403        yes\n",
       "2       3709        yes\n",
       "3      37422        yes\n",
       "4      12527         no\n",
       "...      ...        ...\n",
       "13559  23465         no\n",
       "13560  11743         no\n",
       "13561  28292         no\n",
       "13562  45163         no\n",
       "13563  34839        yes\n",
       "\n",
       "[13564 rows x 2 columns]"
      ]
     },
     "execution_count": 92,
     "metadata": {},
     "output_type": "execute_result"
    }
   ],
   "source": [
    "submissions"
   ]
  },
  {
   "cell_type": "code",
   "execution_count": null,
   "id": "9663f841",
   "metadata": {},
   "outputs": [],
   "source": []
  }
 ],
 "metadata": {
  "kernelspec": {
   "display_name": "Python 3 (ipykernel)",
   "language": "python",
   "name": "python3"
  },
  "language_info": {
   "codemirror_mode": {
    "name": "ipython",
    "version": 3
   },
   "file_extension": ".py",
   "mimetype": "text/x-python",
   "name": "python",
   "nbconvert_exporter": "python",
   "pygments_lexer": "ipython3",
   "version": "3.9.12"
  }
 },
 "nbformat": 4,
 "nbformat_minor": 5
}
